{
  "nbformat": 4,
  "nbformat_minor": 0,
  "metadata": {
    "colab": {
      "provenance": [],
      "gpuType": "T4",
      "authorship_tag": "ABX9TyOe6SIxErw0ovKgC1Qhm2zZ",
      "include_colab_link": true
    },
    "kernelspec": {
      "name": "python3",
      "display_name": "Python 3"
    },
    "language_info": {
      "name": "python"
    },
    "accelerator": "GPU"
  },
  "cells": [
    {
      "cell_type": "markdown",
      "metadata": {
        "id": "view-in-github",
        "colab_type": "text"
      },
      "source": [
        "<a href=\"https://colab.research.google.com/github/the77hnx/works-in-the-univ/blob/main/quantisation.ipynb\" target=\"_parent\"><img src=\"https://colab.research.google.com/assets/colab-badge.svg\" alt=\"Open In Colab\"/></a>"
      ]
    },
    {
      "cell_type": "code",
      "execution_count": 1,
      "metadata": {
        "colab": {
          "base_uri": "https://localhost:8080/",
          "height": 88
        },
        "id": "L3N2Sb9ws9qz",
        "outputId": "323c2c08-4dd9-4c4a-d5b8-ab6d79918bf4"
      },
      "outputs": [
        {
          "output_type": "display_data",
          "data": {
            "text/plain": [
              "<IPython.core.display.HTML object>"
            ],
            "text/html": [
              "\n",
              "     <input type=\"file\" id=\"files-5c61d5f5-b152-41db-b5bb-e0b65b20d9ca\" name=\"files[]\" multiple disabled\n",
              "        style=\"border:none\" />\n",
              "     <output id=\"result-5c61d5f5-b152-41db-b5bb-e0b65b20d9ca\">\n",
              "      Upload widget is only available when the cell has been executed in the\n",
              "      current browser session. Please rerun this cell to enable.\n",
              "      </output>\n",
              "      <script>// Copyright 2017 Google LLC\n",
              "//\n",
              "// Licensed under the Apache License, Version 2.0 (the \"License\");\n",
              "// you may not use this file except in compliance with the License.\n",
              "// You may obtain a copy of the License at\n",
              "//\n",
              "//      http://www.apache.org/licenses/LICENSE-2.0\n",
              "//\n",
              "// Unless required by applicable law or agreed to in writing, software\n",
              "// distributed under the License is distributed on an \"AS IS\" BASIS,\n",
              "// WITHOUT WARRANTIES OR CONDITIONS OF ANY KIND, either express or implied.\n",
              "// See the License for the specific language governing permissions and\n",
              "// limitations under the License.\n",
              "\n",
              "/**\n",
              " * @fileoverview Helpers for google.colab Python module.\n",
              " */\n",
              "(function(scope) {\n",
              "function span(text, styleAttributes = {}) {\n",
              "  const element = document.createElement('span');\n",
              "  element.textContent = text;\n",
              "  for (const key of Object.keys(styleAttributes)) {\n",
              "    element.style[key] = styleAttributes[key];\n",
              "  }\n",
              "  return element;\n",
              "}\n",
              "\n",
              "// Max number of bytes which will be uploaded at a time.\n",
              "const MAX_PAYLOAD_SIZE = 100 * 1024;\n",
              "\n",
              "function _uploadFiles(inputId, outputId) {\n",
              "  const steps = uploadFilesStep(inputId, outputId);\n",
              "  const outputElement = document.getElementById(outputId);\n",
              "  // Cache steps on the outputElement to make it available for the next call\n",
              "  // to uploadFilesContinue from Python.\n",
              "  outputElement.steps = steps;\n",
              "\n",
              "  return _uploadFilesContinue(outputId);\n",
              "}\n",
              "\n",
              "// This is roughly an async generator (not supported in the browser yet),\n",
              "// where there are multiple asynchronous steps and the Python side is going\n",
              "// to poll for completion of each step.\n",
              "// This uses a Promise to block the python side on completion of each step,\n",
              "// then passes the result of the previous step as the input to the next step.\n",
              "function _uploadFilesContinue(outputId) {\n",
              "  const outputElement = document.getElementById(outputId);\n",
              "  const steps = outputElement.steps;\n",
              "\n",
              "  const next = steps.next(outputElement.lastPromiseValue);\n",
              "  return Promise.resolve(next.value.promise).then((value) => {\n",
              "    // Cache the last promise value to make it available to the next\n",
              "    // step of the generator.\n",
              "    outputElement.lastPromiseValue = value;\n",
              "    return next.value.response;\n",
              "  });\n",
              "}\n",
              "\n",
              "/**\n",
              " * Generator function which is called between each async step of the upload\n",
              " * process.\n",
              " * @param {string} inputId Element ID of the input file picker element.\n",
              " * @param {string} outputId Element ID of the output display.\n",
              " * @return {!Iterable<!Object>} Iterable of next steps.\n",
              " */\n",
              "function* uploadFilesStep(inputId, outputId) {\n",
              "  const inputElement = document.getElementById(inputId);\n",
              "  inputElement.disabled = false;\n",
              "\n",
              "  const outputElement = document.getElementById(outputId);\n",
              "  outputElement.innerHTML = '';\n",
              "\n",
              "  const pickedPromise = new Promise((resolve) => {\n",
              "    inputElement.addEventListener('change', (e) => {\n",
              "      resolve(e.target.files);\n",
              "    });\n",
              "  });\n",
              "\n",
              "  const cancel = document.createElement('button');\n",
              "  inputElement.parentElement.appendChild(cancel);\n",
              "  cancel.textContent = 'Cancel upload';\n",
              "  const cancelPromise = new Promise((resolve) => {\n",
              "    cancel.onclick = () => {\n",
              "      resolve(null);\n",
              "    };\n",
              "  });\n",
              "\n",
              "  // Wait for the user to pick the files.\n",
              "  const files = yield {\n",
              "    promise: Promise.race([pickedPromise, cancelPromise]),\n",
              "    response: {\n",
              "      action: 'starting',\n",
              "    }\n",
              "  };\n",
              "\n",
              "  cancel.remove();\n",
              "\n",
              "  // Disable the input element since further picks are not allowed.\n",
              "  inputElement.disabled = true;\n",
              "\n",
              "  if (!files) {\n",
              "    return {\n",
              "      response: {\n",
              "        action: 'complete',\n",
              "      }\n",
              "    };\n",
              "  }\n",
              "\n",
              "  for (const file of files) {\n",
              "    const li = document.createElement('li');\n",
              "    li.append(span(file.name, {fontWeight: 'bold'}));\n",
              "    li.append(span(\n",
              "        `(${file.type || 'n/a'}) - ${file.size} bytes, ` +\n",
              "        `last modified: ${\n",
              "            file.lastModifiedDate ? file.lastModifiedDate.toLocaleDateString() :\n",
              "                                    'n/a'} - `));\n",
              "    const percent = span('0% done');\n",
              "    li.appendChild(percent);\n",
              "\n",
              "    outputElement.appendChild(li);\n",
              "\n",
              "    const fileDataPromise = new Promise((resolve) => {\n",
              "      const reader = new FileReader();\n",
              "      reader.onload = (e) => {\n",
              "        resolve(e.target.result);\n",
              "      };\n",
              "      reader.readAsArrayBuffer(file);\n",
              "    });\n",
              "    // Wait for the data to be ready.\n",
              "    let fileData = yield {\n",
              "      promise: fileDataPromise,\n",
              "      response: {\n",
              "        action: 'continue',\n",
              "      }\n",
              "    };\n",
              "\n",
              "    // Use a chunked sending to avoid message size limits. See b/62115660.\n",
              "    let position = 0;\n",
              "    do {\n",
              "      const length = Math.min(fileData.byteLength - position, MAX_PAYLOAD_SIZE);\n",
              "      const chunk = new Uint8Array(fileData, position, length);\n",
              "      position += length;\n",
              "\n",
              "      const base64 = btoa(String.fromCharCode.apply(null, chunk));\n",
              "      yield {\n",
              "        response: {\n",
              "          action: 'append',\n",
              "          file: file.name,\n",
              "          data: base64,\n",
              "        },\n",
              "      };\n",
              "\n",
              "      let percentDone = fileData.byteLength === 0 ?\n",
              "          100 :\n",
              "          Math.round((position / fileData.byteLength) * 100);\n",
              "      percent.textContent = `${percentDone}% done`;\n",
              "\n",
              "    } while (position < fileData.byteLength);\n",
              "  }\n",
              "\n",
              "  // All done.\n",
              "  yield {\n",
              "    response: {\n",
              "      action: 'complete',\n",
              "    }\n",
              "  };\n",
              "}\n",
              "\n",
              "scope.google = scope.google || {};\n",
              "scope.google.colab = scope.google.colab || {};\n",
              "scope.google.colab._files = {\n",
              "  _uploadFiles,\n",
              "  _uploadFilesContinue,\n",
              "};\n",
              "})(self);\n",
              "</script> "
            ]
          },
          "metadata": {}
        },
        {
          "output_type": "stream",
          "name": "stdout",
          "text": [
            "Saving kaggle.json to kaggle.json\n"
          ]
        },
        {
          "output_type": "execute_result",
          "data": {
            "text/plain": [
              "{'kaggle.json': b'{\"username\":\"akrambelha\",\"key\":\"3fa0e6738defaf8b34de873ff10cc191\"}'}"
            ]
          },
          "metadata": {},
          "execution_count": 1
        }
      ],
      "source": [
        "from google.colab import files\n",
        "files.upload()  # Upload kaggle.json"
      ]
    },
    {
      "cell_type": "code",
      "execution_count": 2,
      "metadata": {
        "id": "r_N2_3LkiYOM"
      },
      "outputs": [],
      "source": [
        "!mkdir -p ~/.kaggle\n",
        "!mv kaggle.json ~/.kaggle/\n",
        "!chmod 600 ~/.kaggle/kaggle.json"
      ]
    },
    {
      "cell_type": "code",
      "execution_count": 3,
      "metadata": {
        "colab": {
          "base_uri": "https://localhost:8080/"
        },
        "id": "M7XXw69riawG",
        "outputId": "a664c9c0-247b-4175-b2f4-28250128a85a"
      },
      "outputs": [
        {
          "output_type": "stream",
          "name": "stdout",
          "text": [
            "Dataset URL: https://www.kaggle.com/datasets/ipythonx/mvtec-ad\n",
            "License(s): copyright-authors\n",
            "Downloading mvtec-ad.zip to /content\n",
            "100% 4.90G/4.91G [01:06<00:00, 125MB/s]\n",
            "100% 4.91G/4.91G [01:06<00:00, 79.3MB/s]\n"
          ]
        }
      ],
      "source": [
        "# Download the dataset from Kaggle\n",
        "!kaggle datasets download -d ipythonx/mvtec-ad --unzip -p /content"
      ]
    },
    {
      "cell_type": "code",
      "execution_count": 4,
      "metadata": {
        "id": "GrYMeBISkTJG",
        "collapsed": true,
        "colab": {
          "base_uri": "https://localhost:8080/"
        },
        "outputId": "f25eba33-3247-4401-f90b-a028904746c3"
      },
      "outputs": [
        {
          "output_type": "stream",
          "name": "stderr",
          "text": [
            "/usr/local/lib/python3.10/dist-packages/albumentations/__init__.py:24: UserWarning: A new version of Albumentations is available: 1.4.21 (you have 1.4.20). Upgrade using: pip install -U albumentations. To disable automatic update checks, set the environment variable NO_ALBUMENTATIONS_UPDATE to 1.\n",
            "  check_for_updates()\n"
          ]
        }
      ],
      "source": [
        "import os\n",
        "import cv2\n",
        "import numpy as np\n",
        "import albumentations as A\n",
        "from imblearn.over_sampling import RandomOverSampler\n",
        "from sklearn.model_selection import train_test_split\n",
        "import os\n",
        "import cv2\n",
        "import numpy as np\n",
        "import tensorflow as tf\n",
        "from tensorflow.keras.applications import MobileNet, EfficientNetB0\n",
        "from tensorflow.keras.applications.resnet import ResNet50\n",
        "from tensorflow.keras.layers import Dense, GlobalAveragePooling2D\n",
        "from tensorflow.keras.models import Model\n",
        "from tensorflow.keras.optimizers import Adam\n",
        "from sklearn.model_selection import train_test_split\n",
        "from sklearn.preprocessing import LabelEncoder\n",
        "from sklearn.metrics import classification_report, confusion_matrix\n",
        "import matplotlib.pyplot as plt\n",
        "from tensorflow.keras.callbacks import EarlyStopping, Callback"
      ]
    },
    {
      "cell_type": "code",
      "execution_count": 5,
      "metadata": {
        "id": "r_cfmJ3Sn1NF"
      },
      "outputs": [],
      "source": [
        "def load_images_from_folder(folder):\n",
        "    images = []\n",
        "    labels = []\n",
        "    for split_type in ['train', 'test']:\n",
        "        split_folder = os.path.join(folder, split_type)\n",
        "        if os.path.isdir(split_folder):\n",
        "            if split_type == 'train':\n",
        "                category_folder = os.path.join(split_folder, 'good')\n",
        "                if os.path.isdir(category_folder):\n",
        "                    for filename in os.listdir(category_folder):\n",
        "                        img_path = os.path.join(category_folder, filename)\n",
        "                        img = cv2.imread(img_path)\n",
        "                        if img is not None:\n",
        "                            images.append(img)\n",
        "                            labels.append('good')\n",
        "            else:\n",
        "                for category in os.listdir(split_folder):\n",
        "                    category_folder = os.path.join(split_folder, category)\n",
        "                    if os.path.isdir(category_folder):\n",
        "                        for filename in os.listdir(category_folder):\n",
        "                            img_path = os.path.join(category_folder, filename)\n",
        "                            img = cv2.imread(img_path)\n",
        "                            if img is not None:\n",
        "                                images.append(img)\n",
        "                                labels.append(category)\n",
        "    return images, labels\n",
        "\n",
        "# Load images\n",
        "dataset_folder = '/content/carpet'\n",
        "images, labels = load_images_from_folder(dataset_folder)"
      ]
    },
    {
      "cell_type": "code",
      "execution_count": 6,
      "metadata": {
        "id": "Dbfb3_LCpIlE"
      },
      "outputs": [],
      "source": [
        "def preprocess_images(images, target_size=(224, 224)):\n",
        "    processed_images = []\n",
        "    for img in images:\n",
        "        img = cv2.resize(img, target_size)\n",
        "        img = cv2.cvtColor(img, cv2.COLOR_BGR2RGB)\n",
        "        img = img / 255.0  # Normalize to [0, 1]\n",
        "        processed_images.append(img)\n",
        "    return np.array(processed_images)\n",
        "\n",
        "# Preprocess images\n",
        "processed_images = preprocess_images(images)"
      ]
    },
    {
      "cell_type": "code",
      "execution_count": 7,
      "metadata": {
        "id": "ixhNTllkphK6",
        "colab": {
          "base_uri": "https://localhost:8080/"
        },
        "outputId": "7f769ea7-ad72-47ec-da11-97bd10b9f156"
      },
      "outputs": [
        {
          "output_type": "execute_result",
          "data": {
            "text/plain": [
              "(397, 224, 224, 3)"
            ]
          },
          "metadata": {},
          "execution_count": 7
        }
      ],
      "source": [
        "processed_images.shape"
      ]
    },
    {
      "cell_type": "code",
      "execution_count": 8,
      "metadata": {
        "id": "H5TRzoJapMOt"
      },
      "outputs": [],
      "source": [
        "def augment_images(images, labels):\n",
        "    augmented_images = []\n",
        "    augmented_labels = []\n",
        "    transform = A.Compose([\n",
        "        A.HorizontalFlip(p=0.5),\n",
        "        A.RandomBrightnessContrast(p=0.2),\n",
        "        A.Rotate(limit=40, p=0.7),\n",
        "        A.Blur(blur_limit=3, p=0.5),\n",
        "    ])\n",
        "    for img, label in zip(images, labels):\n",
        "        augmented = transform(image=img)\n",
        "        augmented_images.append(augmented['image'])\n",
        "        augmented_labels.append(label)\n",
        "    return np.array(augmented_images), np.array(augmented_labels)\n",
        "\n",
        "# Augment images\n",
        "augmented_images, augmented_labels = augment_images(processed_images, labels)"
      ]
    },
    {
      "cell_type": "code",
      "execution_count": 9,
      "metadata": {
        "colab": {
          "base_uri": "https://localhost:8080/"
        },
        "id": "ZEohGzxYpaEq",
        "outputId": "ddceac35-ac8f-43dd-ad54-65dfc0f1f09f"
      },
      "outputs": [
        {
          "output_type": "execute_result",
          "data": {
            "text/plain": [
              "(397, 224, 224, 3)"
            ]
          },
          "metadata": {},
          "execution_count": 9
        }
      ],
      "source": [
        "augmented_images.shape"
      ]
    },
    {
      "cell_type": "code",
      "execution_count": 10,
      "metadata": {
        "colab": {
          "base_uri": "https://localhost:8080/"
        },
        "id": "lUyXityxpcup",
        "outputId": "74739616-9a48-402e-fb16-6655a5a965b8"
      },
      "outputs": [
        {
          "output_type": "execute_result",
          "data": {
            "text/plain": [
              "(397,)"
            ]
          },
          "metadata": {},
          "execution_count": 10
        }
      ],
      "source": [
        "augmented_labels.shape"
      ]
    },
    {
      "cell_type": "code",
      "execution_count": 11,
      "metadata": {
        "id": "ld1gpG_ppOll"
      },
      "outputs": [],
      "source": [
        "def optimize_resolution(images, target_size=(128, 128)):\n",
        "    optimized_images = []\n",
        "    for img in images:\n",
        "        img = cv2.resize(img, target_size)\n",
        "        optimized_images.append(img)\n",
        "    return np.array(optimized_images)\n",
        "\n",
        "# Optimize resolution\n",
        "optimized_images = optimize_resolution(augmented_images)"
      ]
    },
    {
      "cell_type": "code",
      "execution_count": 12,
      "metadata": {
        "colab": {
          "base_uri": "https://localhost:8080/"
        },
        "id": "ftIaTm_DpXiZ",
        "outputId": "c1002a86-f1d9-4015-c753-65b7431ce7fd"
      },
      "outputs": [
        {
          "output_type": "execute_result",
          "data": {
            "text/plain": [
              "(397, 128, 128, 3)"
            ]
          },
          "metadata": {},
          "execution_count": 12
        }
      ],
      "source": [
        "optimized_images.shape"
      ]
    },
    {
      "cell_type": "code",
      "execution_count": 13,
      "metadata": {
        "id": "WIUzAh0wpQjd"
      },
      "outputs": [],
      "source": [
        "def balance_dataset(images, labels):\n",
        "    X = np.array(images)\n",
        "    y = np.array(labels)\n",
        "    oversampler = RandomOverSampler(random_state=42)\n",
        "    X_resampled, y_resampled = oversampler.fit_resample(X.reshape(X.shape[0], -1), y)\n",
        "    X_resampled = X_resampled.reshape(-1, X.shape[1], X.shape[2], X.shape[3])\n",
        "    return X_resampled, y_resampled\n",
        "\n",
        "# Balance dataset\n",
        "balanced_images, balanced_labels = balance_dataset(optimized_images, augmented_labels)"
      ]
    },
    {
      "cell_type": "code",
      "execution_count": 14,
      "metadata": {
        "colab": {
          "base_uri": "https://localhost:8080/"
        },
        "id": "bI8HH61cpR40",
        "outputId": "7935b068-119f-42bd-e3b6-aad57a142a4a"
      },
      "outputs": [
        {
          "output_type": "execute_result",
          "data": {
            "text/plain": [
              "(1848, 128, 128, 3)"
            ]
          },
          "metadata": {},
          "execution_count": 14
        }
      ],
      "source": [
        "balanced_images.shape"
      ]
    },
    {
      "cell_type": "code",
      "execution_count": 15,
      "metadata": {
        "id": "IaOnU-pAp64X"
      },
      "outputs": [],
      "source": [
        "# Split dataset\n",
        "X_train, X_test, y_train, y_test = train_test_split(balanced_images, balanced_labels, test_size=0.2, random_state=42)"
      ]
    },
    {
      "cell_type": "code",
      "execution_count": 16,
      "metadata": {
        "id": "TTy3HDblqDl9"
      },
      "outputs": [],
      "source": [
        "label_encoder = LabelEncoder()\n",
        "y_train_encoded = label_encoder.fit_transform(y_train)\n",
        "y_test_encoded = label_encoder.transform(y_test)\n",
        "\n",
        "num_classes = len(label_encoder.classes_)\n",
        "y_train_categorical = tf.keras.utils.to_categorical(y_train_encoded, num_classes)\n",
        "y_test_categorical = tf.keras.utils.to_categorical(y_test_encoded, num_classes)"
      ]
    },
    {
      "cell_type": "code",
      "execution_count": 17,
      "metadata": {
        "colab": {
          "base_uri": "https://localhost:8080/"
        },
        "id": "1q6B2S_kY8Q8",
        "outputId": "1709d113-519f-4f08-c429-618a0a08d540"
      },
      "outputs": [
        {
          "output_type": "stream",
          "name": "stdout",
          "text": [
            "Mounted at /content/drive\n"
          ]
        },
        {
          "output_type": "stream",
          "name": "stderr",
          "text": [
            "WARNING:absl:Compiled the loaded model, but the compiled metrics have yet to be built. `model.compile_metrics` will be empty until you train or evaluate the model.\n",
            "WARNING:absl:Compiled the loaded model, but the compiled metrics have yet to be built. `model.compile_metrics` will be empty until you train or evaluate the model.\n",
            "WARNING:absl:Compiled the loaded model, but the compiled metrics have yet to be built. `model.compile_metrics` will be empty until you train or evaluate the model.\n"
          ]
        },
        {
          "output_type": "stream",
          "name": "stdout",
          "text": [
            "Models loaded successfully.\n"
          ]
        }
      ],
      "source": [
        "from google.colab import drive\n",
        "from tensorflow.keras.models import load_model\n",
        "\n",
        "# Mount Google Drive\n",
        "drive.mount('/content/drive')\n",
        "\n",
        "# Load models\n",
        "mobilenet_path = '/content/drive/MyDrive/MobileNet_model.h5'\n",
        "efficientnet_path = '/content/drive/MyDrive/EfficientNetB0_model.h5'\n",
        "resnet_path = '/content/drive/MyDrive/ResNet50_model.h5'\n",
        "\n",
        "mobilenet_model = load_model(mobilenet_path)\n",
        "efficientnet_model = load_model(efficientnet_path)\n",
        "resnet_model = load_model(resnet_path)\n",
        "\n",
        "print(\"Models loaded successfully.\")\n"
      ]
    },
    {
      "cell_type": "code",
      "source": [
        "import tensorflow as tf\n",
        "\n",
        "def quantize_model(model):\n",
        "    # Convert to a TensorFlow Lite model with quantization\n",
        "    converter = tf.lite.TFLiteConverter.from_keras_model(model)\n",
        "    converter.optimizations = [tf.lite.Optimize.DEFAULT]\n",
        "    tflite_model = converter.convert()\n",
        "    return tflite_model\n",
        "\n",
        "# Quantize models\n",
        "mobilenet_quantized = quantize_model(mobilenet_model)\n",
        "efficientnet_quantized = quantize_model(efficientnet_model)\n",
        "resnet_quantized = quantize_model(resnet_model)\n",
        "\n",
        "# Save quantized models to files\n",
        "with open('/content/drive/MyDrive/MobileNet_quantized.tflite', 'wb') as f:\n",
        "    f.write(mobilenet_quantized)\n",
        "\n",
        "with open('/content/drive/MyDrive/EfficientNetB0_quantized.tflite', 'wb') as f:\n",
        "    f.write(efficientnet_quantized)\n",
        "\n",
        "with open('/content/drive/MyDrive/ResNet50_quantized.tflite', 'wb') as f:\n",
        "    f.write(resnet_quantized)\n",
        "\n",
        "print(\"Quantized models saved to Google Drive.\")\n"
      ],
      "metadata": {
        "colab": {
          "base_uri": "https://localhost:8080/"
        },
        "collapsed": true,
        "id": "_pNu1-GIZBFm",
        "outputId": "aa7e12b9-2bc4-4b15-c2f0-913ece9a53cf"
      },
      "execution_count": 18,
      "outputs": [
        {
          "output_type": "stream",
          "name": "stdout",
          "text": [
            "Saved artifact at '/tmp/tmpqntw7ak9'. The following endpoints are available:\n",
            "\n",
            "* Endpoint 'serve'\n",
            "  args_0 (POSITIONAL_ONLY): TensorSpec(shape=(None, 128, 128, 3), dtype=tf.float32, name='input_layer')\n",
            "Output Type:\n",
            "  TensorSpec(shape=(None, 6), dtype=tf.float32, name=None)\n",
            "Captures:\n",
            "  136156567082912: TensorSpec(shape=(), dtype=tf.resource, name=None)\n",
            "  136156567180160: TensorSpec(shape=(), dtype=tf.resource, name=None)\n",
            "  136156567185264: TensorSpec(shape=(), dtype=tf.resource, name=None)\n",
            "  136156567183152: TensorSpec(shape=(), dtype=tf.resource, name=None)\n",
            "  136156567189136: TensorSpec(shape=(), dtype=tf.resource, name=None)\n",
            "  136156567189664: TensorSpec(shape=(), dtype=tf.resource, name=None)\n",
            "  136156567308064: TensorSpec(shape=(), dtype=tf.resource, name=None)\n",
            "  136156567309120: TensorSpec(shape=(), dtype=tf.resource, name=None)\n",
            "  136156567178928: TensorSpec(shape=(), dtype=tf.resource, name=None)\n",
            "  136156567307888: TensorSpec(shape=(), dtype=tf.resource, name=None)\n",
            "  136156567312816: TensorSpec(shape=(), dtype=tf.resource, name=None)\n",
            "  136156567313168: TensorSpec(shape=(), dtype=tf.resource, name=None)\n",
            "  136156567314400: TensorSpec(shape=(), dtype=tf.resource, name=None)\n",
            "  136156567311056: TensorSpec(shape=(), dtype=tf.resource, name=None)\n",
            "  136156567312464: TensorSpec(shape=(), dtype=tf.resource, name=None)\n",
            "  136156567317040: TensorSpec(shape=(), dtype=tf.resource, name=None)\n",
            "  136156567317392: TensorSpec(shape=(), dtype=tf.resource, name=None)\n",
            "  136156567318800: TensorSpec(shape=(), dtype=tf.resource, name=None)\n",
            "  136156567315280: TensorSpec(shape=(), dtype=tf.resource, name=None)\n",
            "  136156567316688: TensorSpec(shape=(), dtype=tf.resource, name=None)\n",
            "  136156567321088: TensorSpec(shape=(), dtype=tf.resource, name=None)\n",
            "  136156567306304: TensorSpec(shape=(), dtype=tf.resource, name=None)\n",
            "  136156567319152: TensorSpec(shape=(), dtype=tf.resource, name=None)\n",
            "  136156567318976: TensorSpec(shape=(), dtype=tf.resource, name=None)\n",
            "  136156567321616: TensorSpec(shape=(), dtype=tf.resource, name=None)\n",
            "  136156567311936: TensorSpec(shape=(), dtype=tf.resource, name=None)\n",
            "  136156567455696: TensorSpec(shape=(), dtype=tf.resource, name=None)\n",
            "  136156567454112: TensorSpec(shape=(), dtype=tf.resource, name=None)\n",
            "  136156567454464: TensorSpec(shape=(), dtype=tf.resource, name=None)\n",
            "  136156567456048: TensorSpec(shape=(), dtype=tf.resource, name=None)\n",
            "  136156567460448: TensorSpec(shape=(), dtype=tf.resource, name=None)\n",
            "  136156567460800: TensorSpec(shape=(), dtype=tf.resource, name=None)\n",
            "  136156567462032: TensorSpec(shape=(), dtype=tf.resource, name=None)\n",
            "  136156567458688: TensorSpec(shape=(), dtype=tf.resource, name=None)\n",
            "  136156567460096: TensorSpec(shape=(), dtype=tf.resource, name=None)\n",
            "  136156567464672: TensorSpec(shape=(), dtype=tf.resource, name=None)\n",
            "  136156567465024: TensorSpec(shape=(), dtype=tf.resource, name=None)\n",
            "  136156567466432: TensorSpec(shape=(), dtype=tf.resource, name=None)\n",
            "  136156567462912: TensorSpec(shape=(), dtype=tf.resource, name=None)\n",
            "  136156567464320: TensorSpec(shape=(), dtype=tf.resource, name=None)\n",
            "  136156567468720: TensorSpec(shape=(), dtype=tf.resource, name=None)\n",
            "  136156567462384: TensorSpec(shape=(), dtype=tf.resource, name=None)\n",
            "  136156567466784: TensorSpec(shape=(), dtype=tf.resource, name=None)\n",
            "  136156567466608: TensorSpec(shape=(), dtype=tf.resource, name=None)\n",
            "  136156567469600: TensorSpec(shape=(), dtype=tf.resource, name=None)\n",
            "  136156567456928: TensorSpec(shape=(), dtype=tf.resource, name=None)\n",
            "  136156567537792: TensorSpec(shape=(), dtype=tf.resource, name=None)\n",
            "  136156567536208: TensorSpec(shape=(), dtype=tf.resource, name=None)\n",
            "  136156567536560: TensorSpec(shape=(), dtype=tf.resource, name=None)\n",
            "  136156567538144: TensorSpec(shape=(), dtype=tf.resource, name=None)\n",
            "  136156567542544: TensorSpec(shape=(), dtype=tf.resource, name=None)\n",
            "  136156567542896: TensorSpec(shape=(), dtype=tf.resource, name=None)\n",
            "  136156567544128: TensorSpec(shape=(), dtype=tf.resource, name=None)\n",
            "  136156567540784: TensorSpec(shape=(), dtype=tf.resource, name=None)\n",
            "  136156567542192: TensorSpec(shape=(), dtype=tf.resource, name=None)\n",
            "  136156567546768: TensorSpec(shape=(), dtype=tf.resource, name=None)\n",
            "  136156567547120: TensorSpec(shape=(), dtype=tf.resource, name=None)\n",
            "  136156567548528: TensorSpec(shape=(), dtype=tf.resource, name=None)\n",
            "  136156567545008: TensorSpec(shape=(), dtype=tf.resource, name=None)\n",
            "  136156567546416: TensorSpec(shape=(), dtype=tf.resource, name=None)\n",
            "  136156567550816: TensorSpec(shape=(), dtype=tf.resource, name=None)\n",
            "  136156567544480: TensorSpec(shape=(), dtype=tf.resource, name=None)\n",
            "  136156567548880: TensorSpec(shape=(), dtype=tf.resource, name=None)\n",
            "  136156567548704: TensorSpec(shape=(), dtype=tf.resource, name=None)\n",
            "  136156567551696: TensorSpec(shape=(), dtype=tf.resource, name=None)\n",
            "  136156567539024: TensorSpec(shape=(), dtype=tf.resource, name=None)\n",
            "  136156567636272: TensorSpec(shape=(), dtype=tf.resource, name=None)\n",
            "  136156567638560: TensorSpec(shape=(), dtype=tf.resource, name=None)\n",
            "  136156567635040: TensorSpec(shape=(), dtype=tf.resource, name=None)\n",
            "  136156567636624: TensorSpec(shape=(), dtype=tf.resource, name=None)\n",
            "  136156567641024: TensorSpec(shape=(), dtype=tf.resource, name=None)\n",
            "  136156567641376: TensorSpec(shape=(), dtype=tf.resource, name=None)\n",
            "  136156567642608: TensorSpec(shape=(), dtype=tf.resource, name=None)\n",
            "  136156567639264: TensorSpec(shape=(), dtype=tf.resource, name=None)\n",
            "  136156567640672: TensorSpec(shape=(), dtype=tf.resource, name=None)\n",
            "  136156569087040: TensorSpec(shape=(), dtype=tf.resource, name=None)\n",
            "  136156567736688: TensorSpec(shape=(), dtype=tf.resource, name=None)\n",
            "  136156567738800: TensorSpec(shape=(), dtype=tf.resource, name=None)\n",
            "  136156567650000: TensorSpec(shape=(), dtype=tf.resource, name=None)\n",
            "  136156567734400: TensorSpec(shape=(), dtype=tf.resource, name=None)\n",
            "  136156567741440: TensorSpec(shape=(), dtype=tf.resource, name=None)\n",
            "  136156567741792: TensorSpec(shape=(), dtype=tf.resource, name=None)\n",
            "  136156567743024: TensorSpec(shape=(), dtype=tf.resource, name=None)\n",
            "  136156567739680: TensorSpec(shape=(), dtype=tf.resource, name=None)\n",
            "  136156567741088: TensorSpec(shape=(), dtype=tf.resource, name=None)\n",
            "  136156567745488: TensorSpec(shape=(), dtype=tf.resource, name=None)\n",
            "  136156567745840: TensorSpec(shape=(), dtype=tf.resource, name=None)\n",
            "  136156567747248: TensorSpec(shape=(), dtype=tf.resource, name=None)\n",
            "  136156567743728: TensorSpec(shape=(), dtype=tf.resource, name=None)\n",
            "  136156567745136: TensorSpec(shape=(), dtype=tf.resource, name=None)\n",
            "  136156567746016: TensorSpec(shape=(), dtype=tf.resource, name=None)\n",
            "  136156567781792: TensorSpec(shape=(), dtype=tf.resource, name=None)\n",
            "  136156567782672: TensorSpec(shape=(), dtype=tf.resource, name=None)\n",
            "  136156567747952: TensorSpec(shape=(), dtype=tf.resource, name=None)\n",
            "  136156567782144: TensorSpec(shape=(), dtype=tf.resource, name=None)\n",
            "  136156567786544: TensorSpec(shape=(), dtype=tf.resource, name=None)\n",
            "  136156567786896: TensorSpec(shape=(), dtype=tf.resource, name=None)\n",
            "  136156567788128: TensorSpec(shape=(), dtype=tf.resource, name=None)\n",
            "  136156567784784: TensorSpec(shape=(), dtype=tf.resource, name=None)\n",
            "  136156567786192: TensorSpec(shape=(), dtype=tf.resource, name=None)\n",
            "  136156567790592: TensorSpec(shape=(), dtype=tf.resource, name=None)\n",
            "  136156567790944: TensorSpec(shape=(), dtype=tf.resource, name=None)\n",
            "  136156567792352: TensorSpec(shape=(), dtype=tf.resource, name=None)\n",
            "  136156567788832: TensorSpec(shape=(), dtype=tf.resource, name=None)\n",
            "  136156567790240: TensorSpec(shape=(), dtype=tf.resource, name=None)\n",
            "  136156567794640: TensorSpec(shape=(), dtype=tf.resource, name=None)\n",
            "  136156567794992: TensorSpec(shape=(), dtype=tf.resource, name=None)\n",
            "  136156567796400: TensorSpec(shape=(), dtype=tf.resource, name=None)\n",
            "  136156567792880: TensorSpec(shape=(), dtype=tf.resource, name=None)\n",
            "  136156567794288: TensorSpec(shape=(), dtype=tf.resource, name=None)\n",
            "  136156567795168: TensorSpec(shape=(), dtype=tf.resource, name=None)\n",
            "  136156567880096: TensorSpec(shape=(), dtype=tf.resource, name=None)\n",
            "  136156567880976: TensorSpec(shape=(), dtype=tf.resource, name=None)\n",
            "  136156567797104: TensorSpec(shape=(), dtype=tf.resource, name=None)\n",
            "  136156567880448: TensorSpec(shape=(), dtype=tf.resource, name=None)\n",
            "  136156567885024: TensorSpec(shape=(), dtype=tf.resource, name=None)\n",
            "  136156567885376: TensorSpec(shape=(), dtype=tf.resource, name=None)\n",
            "  136156567886608: TensorSpec(shape=(), dtype=tf.resource, name=None)\n",
            "  136156567883264: TensorSpec(shape=(), dtype=tf.resource, name=None)\n",
            "  136156567884672: TensorSpec(shape=(), dtype=tf.resource, name=None)\n",
            "  136156567889072: TensorSpec(shape=(), dtype=tf.resource, name=None)\n",
            "  136156567889424: TensorSpec(shape=(), dtype=tf.resource, name=None)\n",
            "  136156567890832: TensorSpec(shape=(), dtype=tf.resource, name=None)\n",
            "  136156567887312: TensorSpec(shape=(), dtype=tf.resource, name=None)\n",
            "  136156567888720: TensorSpec(shape=(), dtype=tf.resource, name=None)\n",
            "  136156567893120: TensorSpec(shape=(), dtype=tf.resource, name=None)\n",
            "  136156567893472: TensorSpec(shape=(), dtype=tf.resource, name=None)\n",
            "  136156567894880: TensorSpec(shape=(), dtype=tf.resource, name=None)\n",
            "  136156567891360: TensorSpec(shape=(), dtype=tf.resource, name=None)\n",
            "  136156567892768: TensorSpec(shape=(), dtype=tf.resource, name=None)\n",
            "  136156567893648: TensorSpec(shape=(), dtype=tf.resource, name=None)\n",
            "  136156567978576: TensorSpec(shape=(), dtype=tf.resource, name=None)\n",
            "  136156567979456: TensorSpec(shape=(), dtype=tf.resource, name=None)\n",
            "  136156567881504: TensorSpec(shape=(), dtype=tf.resource, name=None)\n",
            "  136156567978928: TensorSpec(shape=(), dtype=tf.resource, name=None)\n",
            "  136156567978224: TensorSpec(shape=(), dtype=tf.resource, name=None)\n",
            "  136156567980160: TensorSpec(shape=(), dtype=tf.resource, name=None)\n",
            "  136156567978048: TensorSpec(shape=(), dtype=tf.resource, name=None)\n",
            "  136156567983504: TensorSpec(shape=(), dtype=tf.resource, name=None)\n",
            "Saved artifact at '/tmp/tmpgu1n0o9e'. The following endpoints are available:\n",
            "\n",
            "* Endpoint 'serve'\n",
            "  args_0 (POSITIONAL_ONLY): TensorSpec(shape=(None, 128, 128, 3), dtype=tf.float32, name='input_layer_1')\n",
            "Output Type:\n",
            "  TensorSpec(shape=(None, 6), dtype=tf.float32, name=None)\n",
            "Captures:\n",
            "  136154526580256: TensorSpec(shape=(1, 1, 1, 3), dtype=tf.float32, name=None)\n",
            "  136154526679808: TensorSpec(shape=(1, 1, 1, 3), dtype=tf.float32, name=None)\n",
            "  136154526689312: TensorSpec(shape=(), dtype=tf.resource, name=None)\n",
            "  136154526688080: TensorSpec(shape=(), dtype=tf.resource, name=None)\n",
            "  136154526690016: TensorSpec(shape=(), dtype=tf.resource, name=None)\n",
            "  136154526680336: TensorSpec(shape=(), dtype=tf.resource, name=None)\n",
            "  136154526686320: TensorSpec(shape=(), dtype=tf.resource, name=None)\n",
            "  136154526692480: TensorSpec(shape=(), dtype=tf.resource, name=None)\n",
            "  136154526692128: TensorSpec(shape=(), dtype=tf.resource, name=None)\n",
            "  136154526694064: TensorSpec(shape=(), dtype=tf.resource, name=None)\n",
            "  136154526690192: TensorSpec(shape=(), dtype=tf.resource, name=None)\n",
            "  136154526690896: TensorSpec(shape=(), dtype=tf.resource, name=None)\n",
            "  136154526694768: TensorSpec(shape=(), dtype=tf.resource, name=None)\n",
            "  136154526682096: TensorSpec(shape=(), dtype=tf.resource, name=None)\n",
            "  136154526687200: TensorSpec(shape=(), dtype=tf.resource, name=None)\n",
            "  136154526749216: TensorSpec(shape=(), dtype=tf.resource, name=None)\n",
            "  136154526691072: TensorSpec(shape=(), dtype=tf.resource, name=None)\n",
            "  136154526748512: TensorSpec(shape=(), dtype=tf.resource, name=None)\n",
            "  136154526746576: TensorSpec(shape=(), dtype=tf.resource, name=None)\n",
            "  136154526748160: TensorSpec(shape=(), dtype=tf.resource, name=None)\n",
            "  136154526745344: TensorSpec(shape=(), dtype=tf.resource, name=None)\n",
            "  136154526753440: TensorSpec(shape=(), dtype=tf.resource, name=None)\n",
            "  136154526753264: TensorSpec(shape=(), dtype=tf.resource, name=None)\n",
            "  136154526754848: TensorSpec(shape=(), dtype=tf.resource, name=None)\n",
            "  136154526751504: TensorSpec(shape=(), dtype=tf.resource, name=None)\n",
            "  136154526752384: TensorSpec(shape=(), dtype=tf.resource, name=None)\n",
            "  136154526757664: TensorSpec(shape=(), dtype=tf.resource, name=None)\n",
            "  136154526757312: TensorSpec(shape=(), dtype=tf.resource, name=None)\n",
            "  136154526759248: TensorSpec(shape=(), dtype=tf.resource, name=None)\n",
            "  136154526755200: TensorSpec(shape=(), dtype=tf.resource, name=None)\n",
            "  136154526756080: TensorSpec(shape=(), dtype=tf.resource, name=None)\n",
            "  136154526759952: TensorSpec(shape=(), dtype=tf.resource, name=None)\n",
            "  136154526754496: TensorSpec(shape=(), dtype=tf.resource, name=None)\n",
            "  136154526752912: TensorSpec(shape=(), dtype=tf.resource, name=None)\n",
            "  136154526758720: TensorSpec(shape=(), dtype=tf.resource, name=None)\n",
            "  136154526831136: TensorSpec(shape=(), dtype=tf.resource, name=None)\n",
            "  136154526829904: TensorSpec(shape=(), dtype=tf.resource, name=None)\n",
            "  136154526827792: TensorSpec(shape=(), dtype=tf.resource, name=None)\n",
            "  136154526829728: TensorSpec(shape=(), dtype=tf.resource, name=None)\n",
            "  136154526826912: TensorSpec(shape=(), dtype=tf.resource, name=None)\n",
            "  136154526835008: TensorSpec(shape=(), dtype=tf.resource, name=None)\n",
            "  136154526834832: TensorSpec(shape=(), dtype=tf.resource, name=None)\n",
            "  136154526836416: TensorSpec(shape=(), dtype=tf.resource, name=None)\n",
            "  136154526833072: TensorSpec(shape=(), dtype=tf.resource, name=None)\n",
            "  136154526833952: TensorSpec(shape=(), dtype=tf.resource, name=None)\n",
            "  136154526839056: TensorSpec(shape=(), dtype=tf.resource, name=None)\n",
            "  136154526838704: TensorSpec(shape=(), dtype=tf.resource, name=None)\n",
            "  136154526840640: TensorSpec(shape=(), dtype=tf.resource, name=None)\n",
            "  136154526836768: TensorSpec(shape=(), dtype=tf.resource, name=None)\n",
            "  136154526837472: TensorSpec(shape=(), dtype=tf.resource, name=None)\n",
            "  136154526841344: TensorSpec(shape=(), dtype=tf.resource, name=None)\n",
            "  136154526833776: TensorSpec(shape=(), dtype=tf.resource, name=None)\n",
            "  136154526830608: TensorSpec(shape=(), dtype=tf.resource, name=None)\n",
            "  136154526837120: TensorSpec(shape=(), dtype=tf.resource, name=None)\n",
            "  136154526837648: TensorSpec(shape=(), dtype=tf.resource, name=None)\n",
            "  136154526911296: TensorSpec(shape=(), dtype=tf.resource, name=None)\n",
            "  136154526908480: TensorSpec(shape=(), dtype=tf.resource, name=None)\n",
            "  136154526911120: TensorSpec(shape=(), dtype=tf.resource, name=None)\n",
            "  136154526909712: TensorSpec(shape=(), dtype=tf.resource, name=None)\n",
            "  136154526914816: TensorSpec(shape=(), dtype=tf.resource, name=None)\n",
            "  136154526975072: TensorSpec(shape=(), dtype=tf.resource, name=None)\n",
            "  136154526977184: TensorSpec(shape=(), dtype=tf.resource, name=None)\n",
            "  136154526921152: TensorSpec(shape=(), dtype=tf.resource, name=None)\n",
            "  136154526923440: TensorSpec(shape=(), dtype=tf.resource, name=None)\n",
            "  136154526924496: TensorSpec(shape=(), dtype=tf.resource, name=None)\n",
            "  136154526980352: TensorSpec(shape=(), dtype=tf.resource, name=None)\n",
            "  136154526981936: TensorSpec(shape=(), dtype=tf.resource, name=None)\n",
            "  136154526978416: TensorSpec(shape=(), dtype=tf.resource, name=None)\n",
            "  136154526979472: TensorSpec(shape=(), dtype=tf.resource, name=None)\n",
            "  136154526984928: TensorSpec(shape=(), dtype=tf.resource, name=None)\n",
            "  136154526982816: TensorSpec(shape=(), dtype=tf.resource, name=None)\n",
            "  136154526986512: TensorSpec(shape=(), dtype=tf.resource, name=None)\n",
            "  136154526985280: TensorSpec(shape=(), dtype=tf.resource, name=None)\n",
            "  136154526988272: TensorSpec(shape=(), dtype=tf.resource, name=None)\n",
            "  136154526987216: TensorSpec(shape=(), dtype=tf.resource, name=None)\n",
            "  136154526989856: TensorSpec(shape=(), dtype=tf.resource, name=None)\n",
            "  136154526979120: TensorSpec(shape=(), dtype=tf.resource, name=None)\n",
            "  136154526985808: TensorSpec(shape=(), dtype=tf.resource, name=None)\n",
            "  136154526988800: TensorSpec(shape=(), dtype=tf.resource, name=None)\n",
            "  136154527056992: TensorSpec(shape=(), dtype=tf.resource, name=None)\n",
            "  136154527057344: TensorSpec(shape=(), dtype=tf.resource, name=None)\n",
            "  136154526981056: TensorSpec(shape=(), dtype=tf.resource, name=None)\n",
            "  136154527056816: TensorSpec(shape=(), dtype=tf.resource, name=None)\n",
            "  136154526988976: TensorSpec(shape=(), dtype=tf.resource, name=None)\n",
            "  136154527061744: TensorSpec(shape=(), dtype=tf.resource, name=None)\n",
            "  136154527063328: TensorSpec(shape=(), dtype=tf.resource, name=None)\n",
            "  136154527058752: TensorSpec(shape=(), dtype=tf.resource, name=None)\n",
            "  136154527060864: TensorSpec(shape=(), dtype=tf.resource, name=None)\n",
            "  136154527066320: TensorSpec(shape=(), dtype=tf.resource, name=None)\n",
            "  136154527064208: TensorSpec(shape=(), dtype=tf.resource, name=None)\n",
            "  136154527067904: TensorSpec(shape=(), dtype=tf.resource, name=None)\n",
            "  136154527066672: TensorSpec(shape=(), dtype=tf.resource, name=None)\n",
            "  136154527069664: TensorSpec(shape=(), dtype=tf.resource, name=None)\n",
            "  136154527068608: TensorSpec(shape=(), dtype=tf.resource, name=None)\n",
            "  136154527071248: TensorSpec(shape=(), dtype=tf.resource, name=None)\n",
            "  136154527060512: TensorSpec(shape=(), dtype=tf.resource, name=None)\n",
            "  136154527067200: TensorSpec(shape=(), dtype=tf.resource, name=None)\n",
            "  136154527071952: TensorSpec(shape=(), dtype=tf.resource, name=None)\n",
            "  136154527138912: TensorSpec(shape=(), dtype=tf.resource, name=None)\n",
            "  136154527139264: TensorSpec(shape=(), dtype=tf.resource, name=None)\n",
            "  136154527067728: TensorSpec(shape=(), dtype=tf.resource, name=None)\n",
            "  136154527138736: TensorSpec(shape=(), dtype=tf.resource, name=None)\n",
            "  136154526833600: TensorSpec(shape=(), dtype=tf.resource, name=None)\n",
            "  136154526576032: TensorSpec(shape=(), dtype=tf.resource, name=None)\n",
            "  136154528188544: TensorSpec(shape=(), dtype=tf.resource, name=None)\n",
            "  136154526680688: TensorSpec(shape=(), dtype=tf.resource, name=None)\n",
            "  136154526916576: TensorSpec(shape=(), dtype=tf.resource, name=None)\n",
            "  136154526912528: TensorSpec(shape=(), dtype=tf.resource, name=None)\n",
            "  136154526577616: TensorSpec(shape=(), dtype=tf.resource, name=None)\n",
            "  136154526571632: TensorSpec(shape=(), dtype=tf.resource, name=None)\n",
            "  136154526575856: TensorSpec(shape=(), dtype=tf.resource, name=None)\n",
            "  136154526915344: TensorSpec(shape=(), dtype=tf.resource, name=None)\n",
            "  136154527141376: TensorSpec(shape=(), dtype=tf.resource, name=None)\n",
            "  136154527143136: TensorSpec(shape=(), dtype=tf.resource, name=None)\n",
            "  136154526580080: TensorSpec(shape=(), dtype=tf.resource, name=None)\n",
            "  136154527139088: TensorSpec(shape=(), dtype=tf.resource, name=None)\n",
            "  136154526579376: TensorSpec(shape=(), dtype=tf.resource, name=None)\n",
            "  136154527144720: TensorSpec(shape=(), dtype=tf.resource, name=None)\n",
            "  136154527140496: TensorSpec(shape=(), dtype=tf.resource, name=None)\n",
            "  136154527142256: TensorSpec(shape=(), dtype=tf.resource, name=None)\n",
            "  136154527144544: TensorSpec(shape=(), dtype=tf.resource, name=None)\n",
            "  136154527149648: TensorSpec(shape=(), dtype=tf.resource, name=None)\n",
            "  136154527149296: TensorSpec(shape=(), dtype=tf.resource, name=None)\n",
            "  136154527151232: TensorSpec(shape=(), dtype=tf.resource, name=None)\n",
            "  136154527147360: TensorSpec(shape=(), dtype=tf.resource, name=None)\n",
            "  136154527148064: TensorSpec(shape=(), dtype=tf.resource, name=None)\n",
            "  136154527151936: TensorSpec(shape=(), dtype=tf.resource, name=None)\n",
            "  136154527145952: TensorSpec(shape=(), dtype=tf.resource, name=None)\n",
            "  136154527152464: TensorSpec(shape=(), dtype=tf.resource, name=None)\n",
            "  136154527153696: TensorSpec(shape=(), dtype=tf.resource, name=None)\n",
            "  136154527148240: TensorSpec(shape=(), dtype=tf.resource, name=None)\n",
            "  136154527254656: TensorSpec(shape=(), dtype=tf.resource, name=None)\n",
            "  136154527253248: TensorSpec(shape=(), dtype=tf.resource, name=None)\n",
            "  136154527255888: TensorSpec(shape=(), dtype=tf.resource, name=None)\n",
            "  136154527255008: TensorSpec(shape=(), dtype=tf.resource, name=None)\n",
            "  136154527260288: TensorSpec(shape=(), dtype=tf.resource, name=None)\n",
            "  136154527259936: TensorSpec(shape=(), dtype=tf.resource, name=None)\n",
            "  136154527261696: TensorSpec(shape=(), dtype=tf.resource, name=None)\n",
            "  136154527256592: TensorSpec(shape=(), dtype=tf.resource, name=None)\n",
            "  136154527258704: TensorSpec(shape=(), dtype=tf.resource, name=None)\n",
            "  136154527264336: TensorSpec(shape=(), dtype=tf.resource, name=None)\n",
            "  136154527263984: TensorSpec(shape=(), dtype=tf.resource, name=None)\n",
            "  136154527265920: TensorSpec(shape=(), dtype=tf.resource, name=None)\n",
            "  136154527262048: TensorSpec(shape=(), dtype=tf.resource, name=None)\n",
            "  136154527262752: TensorSpec(shape=(), dtype=tf.resource, name=None)\n",
            "  136154527266624: TensorSpec(shape=(), dtype=tf.resource, name=None)\n",
            "  136154527260640: TensorSpec(shape=(), dtype=tf.resource, name=None)\n",
            "  136154527267152: TensorSpec(shape=(), dtype=tf.resource, name=None)\n",
            "  136154527268384: TensorSpec(shape=(), dtype=tf.resource, name=None)\n",
            "  136154527262928: TensorSpec(shape=(), dtype=tf.resource, name=None)\n",
            "  136154527336576: TensorSpec(shape=(), dtype=tf.resource, name=None)\n",
            "  136154527335168: TensorSpec(shape=(), dtype=tf.resource, name=None)\n",
            "  136154527337808: TensorSpec(shape=(), dtype=tf.resource, name=None)\n",
            "  136154527336928: TensorSpec(shape=(), dtype=tf.resource, name=None)\n",
            "  136154527342208: TensorSpec(shape=(), dtype=tf.resource, name=None)\n",
            "  136154527341856: TensorSpec(shape=(), dtype=tf.resource, name=None)\n",
            "  136154527343616: TensorSpec(shape=(), dtype=tf.resource, name=None)\n",
            "  136154527338512: TensorSpec(shape=(), dtype=tf.resource, name=None)\n",
            "  136154527340624: TensorSpec(shape=(), dtype=tf.resource, name=None)\n",
            "  136154527346256: TensorSpec(shape=(), dtype=tf.resource, name=None)\n",
            "  136154527345904: TensorSpec(shape=(), dtype=tf.resource, name=None)\n",
            "  136154527347840: TensorSpec(shape=(), dtype=tf.resource, name=None)\n",
            "  136154527343968: TensorSpec(shape=(), dtype=tf.resource, name=None)\n",
            "  136154527344672: TensorSpec(shape=(), dtype=tf.resource, name=None)\n",
            "  136154527348544: TensorSpec(shape=(), dtype=tf.resource, name=None)\n",
            "  136154527342560: TensorSpec(shape=(), dtype=tf.resource, name=None)\n",
            "  136154527349072: TensorSpec(shape=(), dtype=tf.resource, name=None)\n",
            "  136154527350304: TensorSpec(shape=(), dtype=tf.resource, name=None)\n",
            "  136154527344848: TensorSpec(shape=(), dtype=tf.resource, name=None)\n",
            "  136154527451616: TensorSpec(shape=(), dtype=tf.resource, name=None)\n",
            "  136154527450560: TensorSpec(shape=(), dtype=tf.resource, name=None)\n",
            "  136154527452496: TensorSpec(shape=(), dtype=tf.resource, name=None)\n",
            "  136154527451440: TensorSpec(shape=(), dtype=tf.resource, name=None)\n",
            "  136154527456368: TensorSpec(shape=(), dtype=tf.resource, name=None)\n",
            "  136154527456192: TensorSpec(shape=(), dtype=tf.resource, name=None)\n",
            "  136154527457776: TensorSpec(shape=(), dtype=tf.resource, name=None)\n",
            "  136154527454432: TensorSpec(shape=(), dtype=tf.resource, name=None)\n",
            "  136154527455312: TensorSpec(shape=(), dtype=tf.resource, name=None)\n",
            "  136154527460416: TensorSpec(shape=(), dtype=tf.resource, name=None)\n",
            "  136154527460064: TensorSpec(shape=(), dtype=tf.resource, name=None)\n",
            "  136154527462000: TensorSpec(shape=(), dtype=tf.resource, name=None)\n",
            "  136154527458128: TensorSpec(shape=(), dtype=tf.resource, name=None)\n",
            "  136154527458832: TensorSpec(shape=(), dtype=tf.resource, name=None)\n",
            "  136154527464816: TensorSpec(shape=(), dtype=tf.resource, name=None)\n",
            "  136154527462176: TensorSpec(shape=(), dtype=tf.resource, name=None)\n",
            "  136154527464288: TensorSpec(shape=(), dtype=tf.resource, name=None)\n",
            "  136154527465168: TensorSpec(shape=(), dtype=tf.resource, name=None)\n",
            "  136154527459008: TensorSpec(shape=(), dtype=tf.resource, name=None)\n",
            "  136154527533008: TensorSpec(shape=(), dtype=tf.resource, name=None)\n",
            "  136154527531072: TensorSpec(shape=(), dtype=tf.resource, name=None)\n",
            "  136154527535296: TensorSpec(shape=(), dtype=tf.resource, name=None)\n",
            "  136154527532832: TensorSpec(shape=(), dtype=tf.resource, name=None)\n",
            "  136154527538288: TensorSpec(shape=(), dtype=tf.resource, name=None)\n",
            "  136154527537936: TensorSpec(shape=(), dtype=tf.resource, name=None)\n",
            "  136154527539696: TensorSpec(shape=(), dtype=tf.resource, name=None)\n",
            "  136154527534592: TensorSpec(shape=(), dtype=tf.resource, name=None)\n",
            "  136154527536704: TensorSpec(shape=(), dtype=tf.resource, name=None)\n",
            "  136154527542336: TensorSpec(shape=(), dtype=tf.resource, name=None)\n",
            "  136154527541984: TensorSpec(shape=(), dtype=tf.resource, name=None)\n",
            "  136154527543920: TensorSpec(shape=(), dtype=tf.resource, name=None)\n",
            "  136154527540048: TensorSpec(shape=(), dtype=tf.resource, name=None)\n",
            "  136154527540752: TensorSpec(shape=(), dtype=tf.resource, name=None)\n",
            "  136154527546736: TensorSpec(shape=(), dtype=tf.resource, name=None)\n",
            "  136154527544096: TensorSpec(shape=(), dtype=tf.resource, name=None)\n",
            "  136154527546208: TensorSpec(shape=(), dtype=tf.resource, name=None)\n",
            "  136154527547088: TensorSpec(shape=(), dtype=tf.resource, name=None)\n",
            "  136154527540928: TensorSpec(shape=(), dtype=tf.resource, name=None)\n",
            "  136153756255856: TensorSpec(shape=(), dtype=tf.resource, name=None)\n",
            "  136153756256560: TensorSpec(shape=(), dtype=tf.resource, name=None)\n",
            "  136153756258496: TensorSpec(shape=(), dtype=tf.resource, name=None)\n",
            "  136153756256208: TensorSpec(shape=(), dtype=tf.resource, name=None)\n",
            "  136153756261488: TensorSpec(shape=(), dtype=tf.resource, name=None)\n",
            "  136153756261136: TensorSpec(shape=(), dtype=tf.resource, name=None)\n",
            "  136153756262896: TensorSpec(shape=(), dtype=tf.resource, name=None)\n",
            "  136153756257792: TensorSpec(shape=(), dtype=tf.resource, name=None)\n",
            "  136153756259904: TensorSpec(shape=(), dtype=tf.resource, name=None)\n",
            "  136153756265712: TensorSpec(shape=(), dtype=tf.resource, name=None)\n",
            "  136153756265360: TensorSpec(shape=(), dtype=tf.resource, name=None)\n",
            "  136153756267296: TensorSpec(shape=(), dtype=tf.resource, name=None)\n",
            "  136153756263248: TensorSpec(shape=(), dtype=tf.resource, name=None)\n",
            "  136153756264128: TensorSpec(shape=(), dtype=tf.resource, name=None)\n",
            "  136153756270112: TensorSpec(shape=(), dtype=tf.resource, name=None)\n",
            "  136153756267472: TensorSpec(shape=(), dtype=tf.resource, name=None)\n",
            "  136153756269056: TensorSpec(shape=(), dtype=tf.resource, name=None)\n",
            "  136153756269936: TensorSpec(shape=(), dtype=tf.resource, name=None)\n",
            "  136153756264304: TensorSpec(shape=(), dtype=tf.resource, name=None)\n",
            "  136153756354688: TensorSpec(shape=(), dtype=tf.resource, name=None)\n",
            "  136153756353632: TensorSpec(shape=(), dtype=tf.resource, name=None)\n",
            "  136153756355568: TensorSpec(shape=(), dtype=tf.resource, name=None)\n",
            "  136153756354512: TensorSpec(shape=(), dtype=tf.resource, name=None)\n",
            "  136153756359440: TensorSpec(shape=(), dtype=tf.resource, name=None)\n",
            "  136153756359264: TensorSpec(shape=(), dtype=tf.resource, name=None)\n",
            "  136153756360848: TensorSpec(shape=(), dtype=tf.resource, name=None)\n",
            "  136153756357504: TensorSpec(shape=(), dtype=tf.resource, name=None)\n",
            "  136153756358384: TensorSpec(shape=(), dtype=tf.resource, name=None)\n",
            "  136153756363488: TensorSpec(shape=(), dtype=tf.resource, name=None)\n",
            "  136153756363136: TensorSpec(shape=(), dtype=tf.resource, name=None)\n",
            "  136153756365072: TensorSpec(shape=(), dtype=tf.resource, name=None)\n",
            "  136153756361200: TensorSpec(shape=(), dtype=tf.resource, name=None)\n",
            "  136153756361904: TensorSpec(shape=(), dtype=tf.resource, name=None)\n",
            "  136153756367888: TensorSpec(shape=(), dtype=tf.resource, name=None)\n",
            "  136153756365248: TensorSpec(shape=(), dtype=tf.resource, name=None)\n",
            "  136153756367360: TensorSpec(shape=(), dtype=tf.resource, name=None)\n",
            "  136153756368240: TensorSpec(shape=(), dtype=tf.resource, name=None)\n",
            "  136153756362080: TensorSpec(shape=(), dtype=tf.resource, name=None)\n",
            "  136153756436080: TensorSpec(shape=(), dtype=tf.resource, name=None)\n",
            "  136153756434848: TensorSpec(shape=(), dtype=tf.resource, name=None)\n",
            "  136153756436608: TensorSpec(shape=(), dtype=tf.resource, name=None)\n",
            "  136153756434672: TensorSpec(shape=(), dtype=tf.resource, name=None)\n",
            "  136153756441360: TensorSpec(shape=(), dtype=tf.resource, name=None)\n",
            "  136153756441008: TensorSpec(shape=(), dtype=tf.resource, name=None)\n",
            "  136153756442768: TensorSpec(shape=(), dtype=tf.resource, name=None)\n",
            "  136153756437664: TensorSpec(shape=(), dtype=tf.resource, name=None)\n",
            "  136153756439776: TensorSpec(shape=(), dtype=tf.resource, name=None)\n",
            "  136153756445408: TensorSpec(shape=(), dtype=tf.resource, name=None)\n",
            "  136153756445056: TensorSpec(shape=(), dtype=tf.resource, name=None)\n",
            "  136153756446992: TensorSpec(shape=(), dtype=tf.resource, name=None)\n",
            "  136153756443120: TensorSpec(shape=(), dtype=tf.resource, name=None)\n",
            "  136153756443824: TensorSpec(shape=(), dtype=tf.resource, name=None)\n",
            "  136153756449808: TensorSpec(shape=(), dtype=tf.resource, name=None)\n",
            "  136153756447168: TensorSpec(shape=(), dtype=tf.resource, name=None)\n",
            "  136153756449280: TensorSpec(shape=(), dtype=tf.resource, name=None)\n",
            "  136153756450160: TensorSpec(shape=(), dtype=tf.resource, name=None)\n",
            "  136153756444000: TensorSpec(shape=(), dtype=tf.resource, name=None)\n",
            "  136153756518000: TensorSpec(shape=(), dtype=tf.resource, name=None)\n",
            "  136153756516768: TensorSpec(shape=(), dtype=tf.resource, name=None)\n",
            "  136153756518528: TensorSpec(shape=(), dtype=tf.resource, name=None)\n",
            "  136153756516592: TensorSpec(shape=(), dtype=tf.resource, name=None)\n",
            "  136153756523280: TensorSpec(shape=(), dtype=tf.resource, name=None)\n",
            "  136153756522928: TensorSpec(shape=(), dtype=tf.resource, name=None)\n",
            "  136153756524688: TensorSpec(shape=(), dtype=tf.resource, name=None)\n",
            "  136153756519584: TensorSpec(shape=(), dtype=tf.resource, name=None)\n",
            "  136153756521696: TensorSpec(shape=(), dtype=tf.resource, name=None)\n",
            "  136153756527328: TensorSpec(shape=(), dtype=tf.resource, name=None)\n",
            "  136153756526976: TensorSpec(shape=(), dtype=tf.resource, name=None)\n",
            "  136153756528912: TensorSpec(shape=(), dtype=tf.resource, name=None)\n",
            "  136153756525040: TensorSpec(shape=(), dtype=tf.resource, name=None)\n",
            "  136153756525744: TensorSpec(shape=(), dtype=tf.resource, name=None)\n",
            "  136153756531728: TensorSpec(shape=(), dtype=tf.resource, name=None)\n",
            "  136153756529088: TensorSpec(shape=(), dtype=tf.resource, name=None)\n",
            "  136153756531200: TensorSpec(shape=(), dtype=tf.resource, name=None)\n",
            "  136153756532080: TensorSpec(shape=(), dtype=tf.resource, name=None)\n",
            "  136153756525920: TensorSpec(shape=(), dtype=tf.resource, name=None)\n",
            "  136153756599920: TensorSpec(shape=(), dtype=tf.resource, name=None)\n",
            "  136153756598688: TensorSpec(shape=(), dtype=tf.resource, name=None)\n",
            "  136153756598864: TensorSpec(shape=(), dtype=tf.resource, name=None)\n",
            "  136153756599744: TensorSpec(shape=(), dtype=tf.resource, name=None)\n",
            "  136153756605200: TensorSpec(shape=(), dtype=tf.resource, name=None)\n",
            "  136153756604848: TensorSpec(shape=(), dtype=tf.resource, name=None)\n",
            "  136153756606608: TensorSpec(shape=(), dtype=tf.resource, name=None)\n",
            "  136153756601504: TensorSpec(shape=(), dtype=tf.resource, name=None)\n",
            "  136153756603616: TensorSpec(shape=(), dtype=tf.resource, name=None)\n",
            "  136153756609248: TensorSpec(shape=(), dtype=tf.resource, name=None)\n",
            "  136153756608896: TensorSpec(shape=(), dtype=tf.resource, name=None)\n",
            "  136153756610832: TensorSpec(shape=(), dtype=tf.resource, name=None)\n",
            "  136153756606960: TensorSpec(shape=(), dtype=tf.resource, name=None)\n",
            "  136153756607664: TensorSpec(shape=(), dtype=tf.resource, name=None)\n",
            "  136153756613648: TensorSpec(shape=(), dtype=tf.resource, name=None)\n",
            "  136153756611008: TensorSpec(shape=(), dtype=tf.resource, name=None)\n",
            "  136153756613120: TensorSpec(shape=(), dtype=tf.resource, name=None)\n",
            "  136153756614000: TensorSpec(shape=(), dtype=tf.resource, name=None)\n",
            "  136153756607840: TensorSpec(shape=(), dtype=tf.resource, name=None)\n",
            "  136153756665456: TensorSpec(shape=(), dtype=tf.resource, name=None)\n",
            "  136153756664224: TensorSpec(shape=(), dtype=tf.resource, name=None)\n",
            "  136153756665984: TensorSpec(shape=(), dtype=tf.resource, name=None)\n",
            "  136153756664048: TensorSpec(shape=(), dtype=tf.resource, name=None)\n",
            "  136153756612944: TensorSpec(shape=(), dtype=tf.resource, name=None)\n",
            "  136153756679008: TensorSpec(shape=(), dtype=tf.resource, name=None)\n",
            "  136153756796000: TensorSpec(shape=(), dtype=tf.resource, name=None)\n",
            "  136153756674432: TensorSpec(shape=(), dtype=tf.resource, name=None)\n",
            "  136153756676720: TensorSpec(shape=(), dtype=tf.resource, name=None)\n",
            "  136153756675664: TensorSpec(shape=(), dtype=tf.resource, name=None)\n",
            "  136153756796704: TensorSpec(shape=(), dtype=tf.resource, name=None)\n",
            "  136153756799696: TensorSpec(shape=(), dtype=tf.resource, name=None)\n",
            "  136153756798288: TensorSpec(shape=(), dtype=tf.resource, name=None)\n",
            "Saved artifact at '/tmp/tmpt2yg46xu'. The following endpoints are available:\n",
            "\n",
            "* Endpoint 'serve'\n",
            "  args_0 (POSITIONAL_ONLY): TensorSpec(shape=(None, 128, 128, 3), dtype=tf.float32, name='input_layer_2')\n",
            "Output Type:\n",
            "  TensorSpec(shape=(None, 6), dtype=tf.float32, name=None)\n",
            "Captures:\n",
            "  136153756090432: TensorSpec(shape=(), dtype=tf.resource, name=None)\n",
            "  136153756095360: TensorSpec(shape=(), dtype=tf.resource, name=None)\n",
            "  136153756103104: TensorSpec(shape=(), dtype=tf.resource, name=None)\n",
            "  136153756103808: TensorSpec(shape=(), dtype=tf.resource, name=None)\n",
            "  136153756099584: TensorSpec(shape=(), dtype=tf.resource, name=None)\n",
            "  136153756101872: TensorSpec(shape=(), dtype=tf.resource, name=None)\n",
            "  136153756104336: TensorSpec(shape=(), dtype=tf.resource, name=None)\n",
            "  136153756105040: TensorSpec(shape=(), dtype=tf.resource, name=None)\n",
            "  136153756108224: TensorSpec(shape=(), dtype=tf.resource, name=None)\n",
            "  136153756107872: TensorSpec(shape=(), dtype=tf.resource, name=None)\n",
            "  136153756097824: TensorSpec(shape=(), dtype=tf.resource, name=None)\n",
            "  136153756106816: TensorSpec(shape=(), dtype=tf.resource, name=None)\n",
            "  136153756104864: TensorSpec(shape=(), dtype=tf.resource, name=None)\n",
            "  136153756111040: TensorSpec(shape=(), dtype=tf.resource, name=None)\n",
            "  136153756110688: TensorSpec(shape=(), dtype=tf.resource, name=None)\n",
            "  136153756111744: TensorSpec(shape=(), dtype=tf.resource, name=None)\n",
            "  136153756108752: TensorSpec(shape=(), dtype=tf.resource, name=None)\n",
            "  136153756111920: TensorSpec(shape=(), dtype=tf.resource, name=None)\n",
            "  136153756116672: TensorSpec(shape=(), dtype=tf.resource, name=None)\n",
            "  136153756114032: TensorSpec(shape=(), dtype=tf.resource, name=None)\n",
            "  136153756115616: TensorSpec(shape=(), dtype=tf.resource, name=None)\n",
            "  136153756110864: TensorSpec(shape=(), dtype=tf.resource, name=None)\n",
            "  136153756114912: TensorSpec(shape=(), dtype=tf.resource, name=None)\n",
            "  136153756116496: TensorSpec(shape=(), dtype=tf.resource, name=None)\n",
            "  136153756115088: TensorSpec(shape=(), dtype=tf.resource, name=None)\n",
            "  136153756118080: TensorSpec(shape=(), dtype=tf.resource, name=None)\n",
            "  136153756120544: TensorSpec(shape=(), dtype=tf.resource, name=None)\n",
            "  136153756122304: TensorSpec(shape=(), dtype=tf.resource, name=None)\n",
            "  136153756117728: TensorSpec(shape=(), dtype=tf.resource, name=None)\n",
            "  136153756121072: TensorSpec(shape=(), dtype=tf.resource, name=None)\n",
            "  136153756122832: TensorSpec(shape=(), dtype=tf.resource, name=None)\n",
            "  136153756117376: TensorSpec(shape=(), dtype=tf.resource, name=None)\n",
            "  136153754125760: TensorSpec(shape=(), dtype=tf.resource, name=None)\n",
            "  136153754127520: TensorSpec(shape=(), dtype=tf.resource, name=None)\n",
            "  136153754124880: TensorSpec(shape=(), dtype=tf.resource, name=None)\n",
            "  136153754126992: TensorSpec(shape=(), dtype=tf.resource, name=None)\n",
            "  136153754130688: TensorSpec(shape=(), dtype=tf.resource, name=None)\n",
            "  136153754125936: TensorSpec(shape=(), dtype=tf.resource, name=None)\n",
            "  136153754130336: TensorSpec(shape=(), dtype=tf.resource, name=None)\n",
            "  136153754130160: TensorSpec(shape=(), dtype=tf.resource, name=None)\n",
            "  136153754126464: TensorSpec(shape=(), dtype=tf.resource, name=None)\n",
            "  136153754131568: TensorSpec(shape=(), dtype=tf.resource, name=None)\n",
            "  136153754135264: TensorSpec(shape=(), dtype=tf.resource, name=None)\n",
            "  136153754130512: TensorSpec(shape=(), dtype=tf.resource, name=None)\n",
            "  136153754134912: TensorSpec(shape=(), dtype=tf.resource, name=None)\n",
            "  136153754137552: TensorSpec(shape=(), dtype=tf.resource, name=None)\n",
            "  136153754127168: TensorSpec(shape=(), dtype=tf.resource, name=None)\n",
            "  136153754136144: TensorSpec(shape=(), dtype=tf.resource, name=None)\n",
            "  136153754138080: TensorSpec(shape=(), dtype=tf.resource, name=None)\n",
            "  136153754138784: TensorSpec(shape=(), dtype=tf.resource, name=None)\n",
            "  136153754191120: TensorSpec(shape=(), dtype=tf.resource, name=None)\n",
            "  136153754131040: TensorSpec(shape=(), dtype=tf.resource, name=None)\n",
            "  136153754140192: TensorSpec(shape=(), dtype=tf.resource, name=None)\n",
            "  136153754190240: TensorSpec(shape=(), dtype=tf.resource, name=None)\n",
            "  136153754125584: TensorSpec(shape=(), dtype=tf.resource, name=None)\n",
            "  136153754193936: TensorSpec(shape=(), dtype=tf.resource, name=None)\n",
            "  136153754193584: TensorSpec(shape=(), dtype=tf.resource, name=None)\n",
            "  136153754194640: TensorSpec(shape=(), dtype=tf.resource, name=None)\n",
            "  136153754191648: TensorSpec(shape=(), dtype=tf.resource, name=None)\n",
            "  136153754194816: TensorSpec(shape=(), dtype=tf.resource, name=None)\n",
            "  136153754198512: TensorSpec(shape=(), dtype=tf.resource, name=None)\n",
            "  136153754193760: TensorSpec(shape=(), dtype=tf.resource, name=None)\n",
            "  136153754198160: TensorSpec(shape=(), dtype=tf.resource, name=None)\n",
            "  136153754197984: TensorSpec(shape=(), dtype=tf.resource, name=None)\n",
            "  136153754190416: TensorSpec(shape=(), dtype=tf.resource, name=None)\n",
            "  136153754199392: TensorSpec(shape=(), dtype=tf.resource, name=None)\n",
            "  136153754203264: TensorSpec(shape=(), dtype=tf.resource, name=None)\n",
            "  136153754201328: TensorSpec(shape=(), dtype=tf.resource, name=None)\n",
            "  136153754202912: TensorSpec(shape=(), dtype=tf.resource, name=None)\n",
            "  136153754205552: TensorSpec(shape=(), dtype=tf.resource, name=None)\n",
            "  136153754197104: TensorSpec(shape=(), dtype=tf.resource, name=None)\n",
            "  136153754204144: TensorSpec(shape=(), dtype=tf.resource, name=None)\n",
            "  136153754203088: TensorSpec(shape=(), dtype=tf.resource, name=None)\n",
            "  136153754198688: TensorSpec(shape=(), dtype=tf.resource, name=None)\n",
            "  136153754273216: TensorSpec(shape=(), dtype=tf.resource, name=None)\n",
            "  136153754274976: TensorSpec(shape=(), dtype=tf.resource, name=None)\n",
            "  136153754272336: TensorSpec(shape=(), dtype=tf.resource, name=None)\n",
            "  136153754274448: TensorSpec(shape=(), dtype=tf.resource, name=None)\n",
            "  136153754279200: TensorSpec(shape=(), dtype=tf.resource, name=None)\n",
            "  136153754276560: TensorSpec(shape=(), dtype=tf.resource, name=None)\n",
            "  136153754278144: TensorSpec(shape=(), dtype=tf.resource, name=None)\n",
            "  136153754273392: TensorSpec(shape=(), dtype=tf.resource, name=None)\n",
            "  136153754277440: TensorSpec(shape=(), dtype=tf.resource, name=None)\n",
            "  136153754279024: TensorSpec(shape=(), dtype=tf.resource, name=None)\n",
            "  136153754277616: TensorSpec(shape=(), dtype=tf.resource, name=None)\n",
            "  136153754280608: TensorSpec(shape=(), dtype=tf.resource, name=None)\n",
            "  136153754283072: TensorSpec(shape=(), dtype=tf.resource, name=None)\n",
            "  136153754284832: TensorSpec(shape=(), dtype=tf.resource, name=None)\n",
            "  136153754280256: TensorSpec(shape=(), dtype=tf.resource, name=None)\n",
            "  136153754283600: TensorSpec(shape=(), dtype=tf.resource, name=None)\n",
            "  136153754285360: TensorSpec(shape=(), dtype=tf.resource, name=None)\n",
            "  136153754286064: TensorSpec(shape=(), dtype=tf.resource, name=None)\n",
            "  136153754285712: TensorSpec(shape=(), dtype=tf.resource, name=None)\n",
            "  136153754280080: TensorSpec(shape=(), dtype=tf.resource, name=None)\n",
            "  136153754287472: TensorSpec(shape=(), dtype=tf.resource, name=None)\n",
            "  136153754370992: TensorSpec(shape=(), dtype=tf.resource, name=None)\n",
            "  136153754278672: TensorSpec(shape=(), dtype=tf.resource, name=None)\n",
            "  136153754373984: TensorSpec(shape=(), dtype=tf.resource, name=None)\n",
            "  136153754373632: TensorSpec(shape=(), dtype=tf.resource, name=None)\n",
            "  136153754374688: TensorSpec(shape=(), dtype=tf.resource, name=None)\n",
            "  136153754371696: TensorSpec(shape=(), dtype=tf.resource, name=None)\n",
            "  136153754374864: TensorSpec(shape=(), dtype=tf.resource, name=None)\n",
            "  136153754378560: TensorSpec(shape=(), dtype=tf.resource, name=None)\n",
            "  136153754373808: TensorSpec(shape=(), dtype=tf.resource, name=None)\n",
            "  136153754378208: TensorSpec(shape=(), dtype=tf.resource, name=None)\n",
            "  136153754378032: TensorSpec(shape=(), dtype=tf.resource, name=None)\n",
            "  136153754370464: TensorSpec(shape=(), dtype=tf.resource, name=None)\n",
            "  136153754379440: TensorSpec(shape=(), dtype=tf.resource, name=None)\n",
            "  136153754383312: TensorSpec(shape=(), dtype=tf.resource, name=None)\n",
            "  136153754381376: TensorSpec(shape=(), dtype=tf.resource, name=None)\n",
            "  136153754382960: TensorSpec(shape=(), dtype=tf.resource, name=None)\n",
            "  136153754385600: TensorSpec(shape=(), dtype=tf.resource, name=None)\n",
            "  136153754377152: TensorSpec(shape=(), dtype=tf.resource, name=None)\n",
            "  136153754384192: TensorSpec(shape=(), dtype=tf.resource, name=None)\n",
            "  136153754452560: TensorSpec(shape=(), dtype=tf.resource, name=None)\n",
            "  136153754457136: TensorSpec(shape=(), dtype=tf.resource, name=None)\n",
            "  136153754465408: TensorSpec(shape=(), dtype=tf.resource, name=None)\n",
            "  136153754466112: TensorSpec(shape=(), dtype=tf.resource, name=None)\n",
            "  136153754460832: TensorSpec(shape=(), dtype=tf.resource, name=None)\n",
            "  136153754463120: TensorSpec(shape=(), dtype=tf.resource, name=None)\n",
            "  136153754457840: TensorSpec(shape=(), dtype=tf.resource, name=None)\n",
            "  136153754467520: TensorSpec(shape=(), dtype=tf.resource, name=None)\n",
            "  136153754519856: TensorSpec(shape=(), dtype=tf.resource, name=None)\n",
            "  136153754519328: TensorSpec(shape=(), dtype=tf.resource, name=None)\n",
            "  136153754519504: TensorSpec(shape=(), dtype=tf.resource, name=None)\n",
            "  136153754518624: TensorSpec(shape=(), dtype=tf.resource, name=None)\n",
            "  136153754458896: TensorSpec(shape=(), dtype=tf.resource, name=None)\n",
            "  136153754522848: TensorSpec(shape=(), dtype=tf.resource, name=None)\n",
            "  136153754522496: TensorSpec(shape=(), dtype=tf.resource, name=None)\n",
            "  136153754522320: TensorSpec(shape=(), dtype=tf.resource, name=None)\n",
            "  136153754517744: TensorSpec(shape=(), dtype=tf.resource, name=None)\n",
            "  136153754523728: TensorSpec(shape=(), dtype=tf.resource, name=None)\n",
            "  136153754527424: TensorSpec(shape=(), dtype=tf.resource, name=None)\n",
            "  136153754522672: TensorSpec(shape=(), dtype=tf.resource, name=None)\n",
            "  136153754527072: TensorSpec(shape=(), dtype=tf.resource, name=None)\n",
            "  136153754452736: TensorSpec(shape=(), dtype=tf.resource, name=None)\n",
            "  136153754519152: TensorSpec(shape=(), dtype=tf.resource, name=None)\n",
            "  136153754528304: TensorSpec(shape=(), dtype=tf.resource, name=None)\n",
            "  136153754455904: TensorSpec(shape=(), dtype=tf.resource, name=None)\n",
            "  136153754383664: TensorSpec(shape=(), dtype=tf.resource, name=None)\n",
            "  136153756100112: TensorSpec(shape=(), dtype=tf.resource, name=None)\n",
            "  136153756094832: TensorSpec(shape=(), dtype=tf.resource, name=None)\n",
            "  136153756021360: TensorSpec(shape=(), dtype=tf.resource, name=None)\n",
            "  136153756099056: TensorSpec(shape=(), dtype=tf.resource, name=None)\n",
            "  136153756093072: TensorSpec(shape=(), dtype=tf.resource, name=None)\n",
            "  136153756090608: TensorSpec(shape=(), dtype=tf.resource, name=None)\n",
            "  136153754519680: TensorSpec(shape=(), dtype=tf.resource, name=None)\n",
            "  136153754529536: TensorSpec(shape=(), dtype=tf.resource, name=None)\n",
            "  136153756093600: TensorSpec(shape=(), dtype=tf.resource, name=None)\n",
            "  136153754518096: TensorSpec(shape=(), dtype=tf.resource, name=None)\n",
            "  136153756095536: TensorSpec(shape=(), dtype=tf.resource, name=None)\n",
            "  136153754530944: TensorSpec(shape=(), dtype=tf.resource, name=None)\n",
            "  136153754530592: TensorSpec(shape=(), dtype=tf.resource, name=None)\n",
            "  136153754531648: TensorSpec(shape=(), dtype=tf.resource, name=None)\n",
            "  136153754525664: TensorSpec(shape=(), dtype=tf.resource, name=None)\n",
            "  136153754531824: TensorSpec(shape=(), dtype=tf.resource, name=None)\n",
            "  136153754635072: TensorSpec(shape=(), dtype=tf.resource, name=None)\n",
            "  136153754634016: TensorSpec(shape=(), dtype=tf.resource, name=None)\n",
            "  136153754530768: TensorSpec(shape=(), dtype=tf.resource, name=None)\n",
            "  136153754531472: TensorSpec(shape=(), dtype=tf.resource, name=None)\n",
            "  136153754633312: TensorSpec(shape=(), dtype=tf.resource, name=None)\n",
            "  136153754636304: TensorSpec(shape=(), dtype=tf.resource, name=None)\n",
            "  136153754635424: TensorSpec(shape=(), dtype=tf.resource, name=None)\n",
            "  136153754636480: TensorSpec(shape=(), dtype=tf.resource, name=None)\n",
            "  136153754638944: TensorSpec(shape=(), dtype=tf.resource, name=None)\n",
            "  136153754632608: TensorSpec(shape=(), dtype=tf.resource, name=None)\n",
            "  136153754637184: TensorSpec(shape=(), dtype=tf.resource, name=None)\n",
            "  136153754639472: TensorSpec(shape=(), dtype=tf.resource, name=None)\n",
            "  136153754643168: TensorSpec(shape=(), dtype=tf.resource, name=None)\n",
            "  136153754641232: TensorSpec(shape=(), dtype=tf.resource, name=None)\n",
            "  136153754642816: TensorSpec(shape=(), dtype=tf.resource, name=None)\n",
            "  136153754645456: TensorSpec(shape=(), dtype=tf.resource, name=None)\n",
            "  136153754634544: TensorSpec(shape=(), dtype=tf.resource, name=None)\n",
            "  136153754644048: TensorSpec(shape=(), dtype=tf.resource, name=None)\n",
            "  136153754642992: TensorSpec(shape=(), dtype=tf.resource, name=None)\n",
            "  136153754646512: TensorSpec(shape=(), dtype=tf.resource, name=None)\n",
            "  136153754646160: TensorSpec(shape=(), dtype=tf.resource, name=None)\n",
            "  136153754638416: TensorSpec(shape=(), dtype=tf.resource, name=None)\n",
            "  136153754647920: TensorSpec(shape=(), dtype=tf.resource, name=None)\n",
            "  136153754698672: TensorSpec(shape=(), dtype=tf.resource, name=None)\n",
            "  136153754639648: TensorSpec(shape=(), dtype=tf.resource, name=None)\n",
            "  136153754701664: TensorSpec(shape=(), dtype=tf.resource, name=None)\n",
            "  136153754701312: TensorSpec(shape=(), dtype=tf.resource, name=None)\n",
            "  136153754702368: TensorSpec(shape=(), dtype=tf.resource, name=None)\n",
            "  136153754699376: TensorSpec(shape=(), dtype=tf.resource, name=None)\n",
            "  136153754702544: TensorSpec(shape=(), dtype=tf.resource, name=None)\n",
            "  136153754706416: TensorSpec(shape=(), dtype=tf.resource, name=None)\n",
            "  136153754704480: TensorSpec(shape=(), dtype=tf.resource, name=None)\n",
            "  136153754706064: TensorSpec(shape=(), dtype=tf.resource, name=None)\n",
            "  136153754705888: TensorSpec(shape=(), dtype=tf.resource, name=None)\n",
            "  136153754697792: TensorSpec(shape=(), dtype=tf.resource, name=None)\n",
            "  136153754707296: TensorSpec(shape=(), dtype=tf.resource, name=None)\n",
            "  136153754710992: TensorSpec(shape=(), dtype=tf.resource, name=None)\n",
            "  136153754706240: TensorSpec(shape=(), dtype=tf.resource, name=None)\n",
            "  136153754710640: TensorSpec(shape=(), dtype=tf.resource, name=None)\n",
            "  136153754713280: TensorSpec(shape=(), dtype=tf.resource, name=None)\n",
            "  136153754702720: TensorSpec(shape=(), dtype=tf.resource, name=None)\n",
            "  136153754711872: TensorSpec(shape=(), dtype=tf.resource, name=None)\n",
            "  136153754710816: TensorSpec(shape=(), dtype=tf.resource, name=None)\n",
            "  136153754713456: TensorSpec(shape=(), dtype=tf.resource, name=None)\n",
            "  136153754780944: TensorSpec(shape=(), dtype=tf.resource, name=None)\n",
            "  136153754782704: TensorSpec(shape=(), dtype=tf.resource, name=None)\n",
            "  136153754780064: TensorSpec(shape=(), dtype=tf.resource, name=None)\n",
            "  136153754782176: TensorSpec(shape=(), dtype=tf.resource, name=None)\n",
            "  136153754786048: TensorSpec(shape=(), dtype=tf.resource, name=None)\n",
            "  136153754784112: TensorSpec(shape=(), dtype=tf.resource, name=None)\n",
            "  136153754785696: TensorSpec(shape=(), dtype=tf.resource, name=None)\n",
            "  136153754785520: TensorSpec(shape=(), dtype=tf.resource, name=None)\n",
            "  136153754781648: TensorSpec(shape=(), dtype=tf.resource, name=None)\n",
            "  136153754786928: TensorSpec(shape=(), dtype=tf.resource, name=None)\n",
            "  136153754790624: TensorSpec(shape=(), dtype=tf.resource, name=None)\n",
            "  136153754785872: TensorSpec(shape=(), dtype=tf.resource, name=None)\n",
            "  136153754790272: TensorSpec(shape=(), dtype=tf.resource, name=None)\n",
            "  136153754792912: TensorSpec(shape=(), dtype=tf.resource, name=None)\n",
            "  136153754782352: TensorSpec(shape=(), dtype=tf.resource, name=None)\n",
            "  136153754791504: TensorSpec(shape=(), dtype=tf.resource, name=None)\n",
            "  136153754790448: TensorSpec(shape=(), dtype=tf.resource, name=None)\n",
            "  136153754793968: TensorSpec(shape=(), dtype=tf.resource, name=None)\n",
            "  136153754793616: TensorSpec(shape=(), dtype=tf.resource, name=None)\n",
            "  136153754786400: TensorSpec(shape=(), dtype=tf.resource, name=None)\n",
            "  136153754795376: TensorSpec(shape=(), dtype=tf.resource, name=None)\n",
            "  136153754861984: TensorSpec(shape=(), dtype=tf.resource, name=None)\n",
            "  136153754793088: TensorSpec(shape=(), dtype=tf.resource, name=None)\n",
            "  136153754865680: TensorSpec(shape=(), dtype=tf.resource, name=None)\n",
            "  136153754865328: TensorSpec(shape=(), dtype=tf.resource, name=None)\n",
            "  136153754865152: TensorSpec(shape=(), dtype=tf.resource, name=None)\n",
            "  136153754861632: TensorSpec(shape=(), dtype=tf.resource, name=None)\n",
            "  136153754866560: TensorSpec(shape=(), dtype=tf.resource, name=None)\n",
            "  136153754870256: TensorSpec(shape=(), dtype=tf.resource, name=None)\n",
            "  136153754865504: TensorSpec(shape=(), dtype=tf.resource, name=None)\n",
            "  136153754869904: TensorSpec(shape=(), dtype=tf.resource, name=None)\n",
            "  136153754869728: TensorSpec(shape=(), dtype=tf.resource, name=None)\n",
            "  136153754862512: TensorSpec(shape=(), dtype=tf.resource, name=None)\n",
            "  136153754871136: TensorSpec(shape=(), dtype=tf.resource, name=None)\n",
            "  136153754874832: TensorSpec(shape=(), dtype=tf.resource, name=None)\n",
            "  136153754870080: TensorSpec(shape=(), dtype=tf.resource, name=None)\n",
            "  136153754874480: TensorSpec(shape=(), dtype=tf.resource, name=None)\n",
            "  136153754877120: TensorSpec(shape=(), dtype=tf.resource, name=None)\n",
            "  136153754866736: TensorSpec(shape=(), dtype=tf.resource, name=None)\n",
            "  136153754875712: TensorSpec(shape=(), dtype=tf.resource, name=None)\n",
            "  136153754877648: TensorSpec(shape=(), dtype=tf.resource, name=None)\n",
            "  136153754871312: TensorSpec(shape=(), dtype=tf.resource, name=None)\n",
            "  136153754928576: TensorSpec(shape=(), dtype=tf.resource, name=None)\n",
            "  136153754930336: TensorSpec(shape=(), dtype=tf.resource, name=None)\n",
            "  136153754927696: TensorSpec(shape=(), dtype=tf.resource, name=None)\n",
            "  136153754929808: TensorSpec(shape=(), dtype=tf.resource, name=None)\n",
            "  136153754933504: TensorSpec(shape=(), dtype=tf.resource, name=None)\n",
            "  136153754928752: TensorSpec(shape=(), dtype=tf.resource, name=None)\n",
            "  136153754933152: TensorSpec(shape=(), dtype=tf.resource, name=None)\n",
            "  136153754932976: TensorSpec(shape=(), dtype=tf.resource, name=None)\n",
            "  136153754929280: TensorSpec(shape=(), dtype=tf.resource, name=None)\n",
            "  136153754934384: TensorSpec(shape=(), dtype=tf.resource, name=None)\n",
            "  136153754938080: TensorSpec(shape=(), dtype=tf.resource, name=None)\n",
            "  136153754933328: TensorSpec(shape=(), dtype=tf.resource, name=None)\n",
            "  136153754937728: TensorSpec(shape=(), dtype=tf.resource, name=None)\n",
            "  136153754940368: TensorSpec(shape=(), dtype=tf.resource, name=None)\n",
            "  136153754929984: TensorSpec(shape=(), dtype=tf.resource, name=None)\n",
            "  136153754938960: TensorSpec(shape=(), dtype=tf.resource, name=None)\n",
            "  136153754940896: TensorSpec(shape=(), dtype=tf.resource, name=None)\n",
            "  136153754941600: TensorSpec(shape=(), dtype=tf.resource, name=None)\n",
            "  136153755026704: TensorSpec(shape=(), dtype=tf.resource, name=None)\n",
            "  136153754933856: TensorSpec(shape=(), dtype=tf.resource, name=None)\n",
            "  136153754943008: TensorSpec(shape=(), dtype=tf.resource, name=None)\n",
            "  136153755025824: TensorSpec(shape=(), dtype=tf.resource, name=None)\n",
            "  136153754928400: TensorSpec(shape=(), dtype=tf.resource, name=None)\n",
            "  136153755029520: TensorSpec(shape=(), dtype=tf.resource, name=None)\n",
            "  136153755029168: TensorSpec(shape=(), dtype=tf.resource, name=None)\n",
            "  136153755030224: TensorSpec(shape=(), dtype=tf.resource, name=None)\n",
            "  136153755027232: TensorSpec(shape=(), dtype=tf.resource, name=None)\n",
            "  136153755030400: TensorSpec(shape=(), dtype=tf.resource, name=None)\n",
            "  136153755035152: TensorSpec(shape=(), dtype=tf.resource, name=None)\n",
            "  136153755032512: TensorSpec(shape=(), dtype=tf.resource, name=None)\n",
            "  136153755034096: TensorSpec(shape=(), dtype=tf.resource, name=None)\n",
            "  136153755029344: TensorSpec(shape=(), dtype=tf.resource, name=None)\n",
            "  136153755033392: TensorSpec(shape=(), dtype=tf.resource, name=None)\n",
            "  136153755034976: TensorSpec(shape=(), dtype=tf.resource, name=None)\n",
            "  136153755033568: TensorSpec(shape=(), dtype=tf.resource, name=None)\n",
            "  136153755036560: TensorSpec(shape=(), dtype=tf.resource, name=None)\n",
            "  136153755039024: TensorSpec(shape=(), dtype=tf.resource, name=None)\n",
            "  136153755040784: TensorSpec(shape=(), dtype=tf.resource, name=None)\n",
            "  136153755036208: TensorSpec(shape=(), dtype=tf.resource, name=None)\n",
            "  136153755039552: TensorSpec(shape=(), dtype=tf.resource, name=None)\n",
            "  136153755041312: TensorSpec(shape=(), dtype=tf.resource, name=None)\n",
            "  136153755040960: TensorSpec(shape=(), dtype=tf.resource, name=None)\n",
            "  136153755108624: TensorSpec(shape=(), dtype=tf.resource, name=None)\n",
            "  136153755110384: TensorSpec(shape=(), dtype=tf.resource, name=None)\n",
            "  136153755107744: TensorSpec(shape=(), dtype=tf.resource, name=None)\n",
            "  136153755109856: TensorSpec(shape=(), dtype=tf.resource, name=None)\n",
            "  136153755113552: TensorSpec(shape=(), dtype=tf.resource, name=None)\n",
            "  136153755109504: TensorSpec(shape=(), dtype=tf.resource, name=None)\n",
            "  136153755113200: TensorSpec(shape=(), dtype=tf.resource, name=None)\n",
            "  136153755113024: TensorSpec(shape=(), dtype=tf.resource, name=None)\n",
            "  136153755110208: TensorSpec(shape=(), dtype=tf.resource, name=None)\n",
            "  136153755114432: TensorSpec(shape=(), dtype=tf.resource, name=None)\n",
            "  136153755118128: TensorSpec(shape=(), dtype=tf.resource, name=None)\n",
            "  136153755113376: TensorSpec(shape=(), dtype=tf.resource, name=None)\n",
            "  136153755117776: TensorSpec(shape=(), dtype=tf.resource, name=None)\n",
            "  136153755120416: TensorSpec(shape=(), dtype=tf.resource, name=None)\n",
            "  136153755110032: TensorSpec(shape=(), dtype=tf.resource, name=None)\n",
            "  136153755119008: TensorSpec(shape=(), dtype=tf.resource, name=None)\n",
            "  136153755120944: TensorSpec(shape=(), dtype=tf.resource, name=None)\n",
            "  136153755121648: TensorSpec(shape=(), dtype=tf.resource, name=None)\n",
            "  136153755121296: TensorSpec(shape=(), dtype=tf.resource, name=None)\n",
            "  136153755112672: TensorSpec(shape=(), dtype=tf.resource, name=None)\n",
            "  136153755123056: TensorSpec(shape=(), dtype=tf.resource, name=None)\n",
            "  136153753141664: TensorSpec(shape=(), dtype=tf.resource, name=None)\n",
            "  136153755111264: TensorSpec(shape=(), dtype=tf.resource, name=None)\n",
            "  136153753145184: TensorSpec(shape=(), dtype=tf.resource, name=None)\n",
            "  136153753144832: TensorSpec(shape=(), dtype=tf.resource, name=None)\n",
            "  136153753145888: TensorSpec(shape=(), dtype=tf.resource, name=None)\n",
            "  136153753142896: TensorSpec(shape=(), dtype=tf.resource, name=None)\n",
            "  136153753146064: TensorSpec(shape=(), dtype=tf.resource, name=None)\n",
            "  136153753149760: TensorSpec(shape=(), dtype=tf.resource, name=None)\n",
            "  136153753145008: TensorSpec(shape=(), dtype=tf.resource, name=None)\n",
            "  136153753149408: TensorSpec(shape=(), dtype=tf.resource, name=None)\n",
            "  136153753149232: TensorSpec(shape=(), dtype=tf.resource, name=None)\n",
            "  136153753142192: TensorSpec(shape=(), dtype=tf.resource, name=None)\n",
            "  136153753150640: TensorSpec(shape=(), dtype=tf.resource, name=None)\n",
            "  136153753148352: TensorSpec(shape=(), dtype=tf.resource, name=None)\n",
            "  136153753152752: TensorSpec(shape=(), dtype=tf.resource, name=None)\n",
            "  136153753143248: TensorSpec(shape=(), dtype=tf.resource, name=None)\n",
            "  136153753154512: TensorSpec(shape=(), dtype=tf.resource, name=None)\n",
            "Quantized models saved to Google Drive.\n"
          ]
        }
      ]
    },
    {
      "cell_type": "code",
      "source": [
        "class StopTrainingAtAccuracy(Callback):\n",
        "    def __init__(self, target_accuracy):\n",
        "        super(StopTrainingAtAccuracy, self).__init__()\n",
        "        self.target_accuracy = target_accuracy\n",
        "\n",
        "    def on_epoch_end(self, epoch, logs=None):\n",
        "        # Get the validation accuracy from logs\n",
        "        val_accuracy = logs.get(\"val_accuracy\")\n",
        "        if val_accuracy is not None and val_accuracy >= self.target_accuracy:\n",
        "            print(f\"\\nStopping training as val_accuracy reached {val_accuracy:.2f}, which is greater than or equal to {self.target_accuracy}.\")\n",
        "            self.model.stop_training = True"
      ],
      "metadata": {
        "id": "3VCH1ApGK_qA"
      },
      "execution_count": 19,
      "outputs": []
    },
    {
      "cell_type": "code",
      "source": [
        "import tensorflow as tf\n",
        "from tensorflow.keras.applications import ResNet50, EfficientNetB0, MobileNetV2\n",
        "from tensorflow.keras.models import Model\n",
        "from tensorflow.keras.layers import Dense, GlobalAveragePooling2D, Input, Dropout\n",
        "from tensorflow.keras.optimizers import Adam\n",
        "from tensorflow.keras.losses import CategoricalCrossentropy\n",
        "from tensorflow.keras.callbacks import EarlyStopping\n",
        "\n",
        "# 1. Define student models for ResNet, EfficientNet, and MobileNet\n",
        "# 1. Define ResNet student model with Dropout and freeze base model\n",
        "def create_resnet_student_model(input_shape, num_classes):\n",
        "    base_model = ResNet50(weights='imagenet', include_top=False, input_shape=input_shape)\n",
        "\n",
        "\n",
        "\n",
        "    x = base_model.output\n",
        "    x = GlobalAveragePooling2D()(x)\n",
        "    x = Dropout(0.5)(x)  # Adding dropout layer\n",
        "    x = Dense(1024, activation='relu')(x)\n",
        "    x = Dense(num_classes, activation='softmax')(x)\n",
        "\n",
        "    return Model(inputs=base_model.input, outputs=x, name=\"resnet_student_model\")\n",
        "\n",
        "\n",
        "# 2. Define EfficientNet student model with Dropout and freeze base model\n",
        "def create_efficientnet_student_model(input_shape, num_classes):\n",
        "    base_model = EfficientNetB0(weights='imagenet', include_top=False, input_shape=input_shape)\n",
        "    # Freeze the layers of the base model\n",
        "\n",
        "    x = base_model.output\n",
        "    x = GlobalAveragePooling2D()(x)\n",
        "    x = Dropout(0.5)(x)  # Adding dropout layer\n",
        "    x = Dense(1024, activation='relu')(x)\n",
        "    x = Dense(num_classes, activation='softmax')(x)\n",
        "\n",
        "    return Model(inputs=base_model.input, outputs=x, name=\"efficientnet_student_model\")\n",
        "\n",
        "\n",
        "# 3. Define MobileNet student model with Dropout and freeze base model\n",
        "def create_mobilenet_student_model(input_shape, num_classes):\n",
        "    base_model = MobileNetV2(weights='imagenet', include_top=False, input_shape=input_shape)\n",
        "\n",
        "    # Freeze the layers of the base model\n",
        "    for layer in base_model.layers:\n",
        "        layer.trainable = False\n",
        "\n",
        "    x = base_model.output\n",
        "    x = GlobalAveragePooling2D()(x)\n",
        "    x = Dense(128, activation='relu')(x)\n",
        "    x = Dense(num_classes, activation='softmax')(x)\n",
        "\n",
        "    return Model(inputs=base_model.input, outputs=x, name=\"mobilenet_student_model\")\n",
        "\n",
        "# 2. Compile the student models\n",
        "input_shape = (128, 128, 3)  # Adjust input shape if needed\n",
        "num_classes = 6  # Example for 10 classes (adjust as per your dataset)\n",
        "\n",
        "# Create individual student models\n",
        "resnet_student_model = create_resnet_student_model(input_shape, num_classes)\n",
        "efficientnet_student_model = create_efficientnet_student_model(input_shape, num_classes)\n",
        "mobilenet_student_model = create_mobilenet_student_model(input_shape, num_classes)\n",
        "\n",
        "# 3. Compile the models\n",
        "resnet_student_model.compile(optimizer=Adam(learning_rate=0.001), loss='categorical_crossentropy', metrics=['accuracy'])\n",
        "efficientnet_student_model.compile(optimizer=Adam(learning_rate=0.001), loss='categorical_crossentropy', metrics=['accuracy'])\n",
        "mobilenet_student_model.compile(optimizer=Adam(learning_rate=0.001), loss='categorical_crossentropy', metrics=['accuracy'])\n",
        "\n",
        "# 4. Define the Distillation Loss\n",
        "def distillation_loss(y_true, y_pred_student, y_pred_teacher, temperature=3.0, alpha=0.5):\n",
        "    \"\"\"Custom loss function for knowledge distillation.\"\"\"\n",
        "    # Soft loss (teacher-student divergence)\n",
        "    soft_loss = tf.keras.losses.KLDivergence()(\n",
        "        tf.nn.softmax(y_pred_teacher / temperature, axis=1),\n",
        "        tf.nn.softmax(y_pred_student / temperature, axis=1)\n",
        "    )\n",
        "    # Hard loss (true labels)\n",
        "    hard_loss = CategoricalCrossentropy()(y_true, y_pred_student)\n",
        "    return alpha * hard_loss + (1 - alpha) * soft_loss\n",
        "\n",
        "# 5. Custom training loop for Knowledge Distillation\n",
        "class DistillationTrainer(tf.keras.callbacks.Callback):\n",
        "    def __init__(self, teacher_model, student_model, temperature=3.0, alpha=0.5):\n",
        "        self.teacher_model = teacher_model\n",
        "        self.student_model = student_model\n",
        "        self.temperature = temperature\n",
        "        self.alpha = alpha\n",
        "\n",
        "    def compile(self, optimizer, metrics):\n",
        "        self.optimizer = optimizer\n",
        "        self.metrics = metrics\n",
        "\n",
        "    def train_step(self, x_batch, y_batch):\n",
        "        with tf.GradientTape() as tape:\n",
        "            y_pred_student = self.student_model(x_batch, training=True)\n",
        "            y_pred_teacher = self.teacher_model(x_batch, training=False)\n",
        "            loss = distillation_loss(\n",
        "                y_true=y_batch,\n",
        "                y_pred_student=y_pred_student,\n",
        "                y_pred_teacher=y_pred_teacher,\n",
        "                temperature=self.temperature,\n",
        "                alpha=self.alpha\n",
        "            )\n",
        "        gradients = tape.gradient(loss, self.student_model.trainable_variables)\n",
        "        self.optimizer.apply_gradients(zip(gradients, self.student_model.trainable_variables))\n",
        "        return {metric.name: metric(y_batch, y_pred_student) for metric in self.metrics}\n",
        "\n",
        "# 6. Modify callback to stop training when val_accuracy reaches 0.98\n",
        "# Target validation accuracy\n",
        "target_accuracy = 0.98\n",
        "\n",
        "# Create the custom callback\n",
        "stop_training_callback = StopTrainingAtAccuracy(target_accuracy)\n",
        "\n",
        "early_stopping = EarlyStopping(monitor='accuracy', patience=50, mode='max')  # Monitor val_accuracy\n",
        "stop_training_callback = StopTrainingAtAccuracy(target_accuracy=0.96)  # Stop when val_accuracy >= 0.96\n",
        "\n",
        "# 7. Train Student Model with each Teacher Model\n",
        "def train_student_with_teacher(teacher_model, student_model, X_train, y_train_categorical, X_test, y_test_categorical, epochs=150):\n",
        "    distillation_trainer = DistillationTrainer(teacher_model, student_model, temperature=3.0, alpha=0.7)\n",
        "    distillation_trainer.compile(optimizer=Adam(learning_rate=0.001), metrics=['val_accuracy'])\n",
        "\n",
        "    # Fit the model using the distillation trainer\n",
        "    history = student_model.fit(\n",
        "        X_train,\n",
        "        y_train_categorical,\n",
        "        validation_data=(X_test, y_test_categorical),\n",
        "        epochs=epochs,\n",
        "        callbacks=[early_stopping, stop_training_callback],\n",
        "        batch_size=16  # Reduced batch size\n",
        "    )\n",
        "    return history"
      ],
      "metadata": {
        "id": "RaLi-KtTZD8T"
      },
      "execution_count": 26,
      "outputs": []
    },
    {
      "cell_type": "code",
      "source": [
        "# تدريب نموذج MobileNet\n",
        "history_mobilenet = train_student_with_teacher(\n",
        "    teacher_model=mobilenet_model,  # استبدال هذا مع نموذج المعلم\n",
        "    student_model=mobilenet_student_model,\n",
        "    X_train=X_train, y_train_categorical=y_train_categorical,\n",
        "    X_test=X_test, y_test_categorical=y_test_categorical,\n",
        "    epochs=250\n",
        ")"
      ],
      "metadata": {
        "colab": {
          "base_uri": "https://localhost:8080/"
        },
        "id": "eQYvuCKBHBTz",
        "outputId": "b788cfa0-8e2d-44ba-e30d-f9986beabc1b"
      },
      "execution_count": 21,
      "outputs": [
        {
          "output_type": "stream",
          "name": "stdout",
          "text": [
            "Epoch 1/250\n",
            "\u001b[1m93/93\u001b[0m \u001b[32m━━━━━━━━━━━━━━━━━━━━\u001b[0m\u001b[37m\u001b[0m \u001b[1m22s\u001b[0m 119ms/step - accuracy: 0.3897 - loss: 1.5843 - val_accuracy: 0.6162 - val_loss: 0.9922\n",
            "Epoch 2/250\n",
            "\u001b[1m93/93\u001b[0m \u001b[32m━━━━━━━━━━━━━━━━━━━━\u001b[0m\u001b[37m\u001b[0m \u001b[1m1s\u001b[0m 12ms/step - accuracy: 0.6880 - loss: 0.9176 - val_accuracy: 0.7568 - val_loss: 0.7497\n",
            "Epoch 3/250\n",
            "\u001b[1m93/93\u001b[0m \u001b[32m━━━━━━━━━━━━━━━━━━━━\u001b[0m\u001b[37m\u001b[0m \u001b[1m1s\u001b[0m 12ms/step - accuracy: 0.7940 - loss: 0.6545 - val_accuracy: 0.7730 - val_loss: 0.5312\n",
            "Epoch 4/250\n",
            "\u001b[1m93/93\u001b[0m \u001b[32m━━━━━━━━━━━━━━━━━━━━\u001b[0m\u001b[37m\u001b[0m \u001b[1m1s\u001b[0m 12ms/step - accuracy: 0.8882 - loss: 0.4480 - val_accuracy: 0.7946 - val_loss: 0.5862\n",
            "Epoch 5/250\n",
            "\u001b[1m93/93\u001b[0m \u001b[32m━━━━━━━━━━━━━━━━━━━━\u001b[0m\u001b[37m\u001b[0m \u001b[1m1s\u001b[0m 10ms/step - accuracy: 0.8855 - loss: 0.3798 - val_accuracy: 0.8162 - val_loss: 0.4340\n",
            "Epoch 6/250\n",
            "\u001b[1m93/93\u001b[0m \u001b[32m━━━━━━━━━━━━━━━━━━━━\u001b[0m\u001b[37m\u001b[0m \u001b[1m1s\u001b[0m 12ms/step - accuracy: 0.8990 - loss: 0.3253 - val_accuracy: 0.9189 - val_loss: 0.3083\n",
            "Epoch 7/250\n",
            "\u001b[1m93/93\u001b[0m \u001b[32m━━━━━━━━━━━━━━━━━━━━\u001b[0m\u001b[37m\u001b[0m \u001b[1m1s\u001b[0m 12ms/step - accuracy: 0.9305 - loss: 0.2462 - val_accuracy: 0.9351 - val_loss: 0.2249\n",
            "Epoch 8/250\n",
            "\u001b[1m93/93\u001b[0m \u001b[32m━━━━━━━━━━━━━━━━━━━━\u001b[0m\u001b[37m\u001b[0m \u001b[1m1s\u001b[0m 12ms/step - accuracy: 0.9610 - loss: 0.1821 - val_accuracy: 0.9595 - val_loss: 0.1808\n",
            "Epoch 9/250\n",
            "\u001b[1m93/93\u001b[0m \u001b[32m━━━━━━━━━━━━━━━━━━━━\u001b[0m\u001b[37m\u001b[0m \u001b[1m1s\u001b[0m 14ms/step - accuracy: 0.9696 - loss: 0.1585 - val_accuracy: 0.9486 - val_loss: 0.1684\n",
            "Epoch 10/250\n",
            "\u001b[1m93/93\u001b[0m \u001b[32m━━━━━━━━━━━━━━━━━━━━\u001b[0m\u001b[37m\u001b[0m \u001b[1m2s\u001b[0m 12ms/step - accuracy: 0.9686 - loss: 0.1233 - val_accuracy: 0.9514 - val_loss: 0.1388\n",
            "Epoch 11/250\n",
            "\u001b[1m93/93\u001b[0m \u001b[32m━━━━━━━━━━━━━━━━━━━━\u001b[0m\u001b[37m\u001b[0m \u001b[1m1s\u001b[0m 12ms/step - accuracy: 0.9837 - loss: 0.1045 - val_accuracy: 0.9432 - val_loss: 0.1578\n",
            "Epoch 12/250\n",
            "\u001b[1m91/93\u001b[0m \u001b[32m━━━━━━━━━━━━━━━━━━━\u001b[0m\u001b[37m━\u001b[0m \u001b[1m0s\u001b[0m 8ms/step - accuracy: 0.9846 - loss: 0.0937\n",
            "Stopping training as val_accuracy reached 0.98, which is greater than or equal to 0.96.\n",
            "\u001b[1m93/93\u001b[0m \u001b[32m━━━━━━━━━━━━━━━━━━━━\u001b[0m\u001b[37m\u001b[0m \u001b[1m1s\u001b[0m 10ms/step - accuracy: 0.9847 - loss: 0.0934 - val_accuracy: 0.9784 - val_loss: 0.0973\n"
          ]
        }
      ]
    },
    {
      "cell_type": "code",
      "source": [
        "# تدريب نموذج EfficientNet\n",
        "history_efficientnet = train_student_with_teacher(\n",
        "    teacher_model=efficientnet_model,  # استبدال هذا مع نموذج المعلم\n",
        "    student_model=efficientnet_student_model,\n",
        "    X_train=X_train, y_train_categorical=y_train_categorical,\n",
        "    X_test=X_test, y_test_categorical=y_test_categorical,\n",
        "    epochs=250\n",
        ")"
      ],
      "metadata": {
        "colab": {
          "base_uri": "https://localhost:8080/"
        },
        "id": "koxkBydkHEAw",
        "outputId": "f0f8a235-e524-4726-cb2f-e05177247a14"
      },
      "execution_count": 22,
      "outputs": [
        {
          "output_type": "stream",
          "name": "stdout",
          "text": [
            "Epoch 1/250\n",
            "\u001b[1m93/93\u001b[0m \u001b[32m━━━━━━━━━━━━━━━━━━━━\u001b[0m\u001b[37m\u001b[0m \u001b[1m139s\u001b[0m 630ms/step - accuracy: 0.6480 - loss: 0.9251 - val_accuracy: 0.1838 - val_loss: 45.5383\n",
            "Epoch 2/250\n",
            "\u001b[1m93/93\u001b[0m \u001b[32m━━━━━━━━━━━━━━━━━━━━\u001b[0m\u001b[37m\u001b[0m \u001b[1m42s\u001b[0m 41ms/step - accuracy: 0.9252 - loss: 0.2365 - val_accuracy: 0.2243 - val_loss: 14.5400\n",
            "Epoch 3/250\n",
            "\u001b[1m93/93\u001b[0m \u001b[32m━━━━━━━━━━━━━━━━━━━━\u001b[0m\u001b[37m\u001b[0m \u001b[1m5s\u001b[0m 37ms/step - accuracy: 0.9291 - loss: 0.3192 - val_accuracy: 0.1486 - val_loss: 38.4505\n",
            "Epoch 4/250\n",
            "\u001b[1m93/93\u001b[0m \u001b[32m━━━━━━━━━━━━━━━━━━━━\u001b[0m\u001b[37m\u001b[0m \u001b[1m5s\u001b[0m 38ms/step - accuracy: 0.9672 - loss: 0.1145 - val_accuracy: 0.2189 - val_loss: 11.9287\n",
            "Epoch 5/250\n",
            "\u001b[1m93/93\u001b[0m \u001b[32m━━━━━━━━━━━━━━━━━━━━\u001b[0m\u001b[37m\u001b[0m \u001b[1m4s\u001b[0m 44ms/step - accuracy: 0.9809 - loss: 0.0649 - val_accuracy: 0.2135 - val_loss: 28.6501\n",
            "Epoch 6/250\n",
            "\u001b[1m93/93\u001b[0m \u001b[32m━━━━━━━━━━━━━━━━━━━━\u001b[0m\u001b[37m\u001b[0m \u001b[1m4s\u001b[0m 36ms/step - accuracy: 0.9860 - loss: 0.0432 - val_accuracy: 0.1865 - val_loss: 73.7629\n",
            "Epoch 7/250\n",
            "\u001b[1m93/93\u001b[0m \u001b[32m━━━━━━━━━━━━━━━━━━━━\u001b[0m\u001b[37m\u001b[0m \u001b[1m3s\u001b[0m 36ms/step - accuracy: 0.9556 - loss: 0.2022 - val_accuracy: 0.1649 - val_loss: 5.7262\n",
            "Epoch 8/250\n",
            "\u001b[1m93/93\u001b[0m \u001b[32m━━━━━━━━━━━━━━━━━━━━\u001b[0m\u001b[37m\u001b[0m \u001b[1m4s\u001b[0m 38ms/step - accuracy: 0.9453 - loss: 0.2111 - val_accuracy: 0.2973 - val_loss: 4.9417\n",
            "Epoch 9/250\n",
            "\u001b[1m93/93\u001b[0m \u001b[32m━━━━━━━━━━━━━━━━━━━━\u001b[0m\u001b[37m\u001b[0m \u001b[1m4s\u001b[0m 42ms/step - accuracy: 0.9838 - loss: 0.0709 - val_accuracy: 0.6000 - val_loss: 2.9785\n",
            "Epoch 10/250\n",
            "\u001b[1m93/93\u001b[0m \u001b[32m━━━━━━━━━━━━━━━━━━━━\u001b[0m\u001b[37m\u001b[0m \u001b[1m0s\u001b[0m 33ms/step - accuracy: 0.9971 - loss: 0.0126\n",
            "Stopping training as val_accuracy reached 0.99, which is greater than or equal to 0.96.\n",
            "\u001b[1m93/93\u001b[0m \u001b[32m━━━━━━━━━━━━━━━━━━━━\u001b[0m\u001b[37m\u001b[0m \u001b[1m4s\u001b[0m 36ms/step - accuracy: 0.9971 - loss: 0.0125 - val_accuracy: 0.9946 - val_loss: 0.0093\n"
          ]
        }
      ]
    },
    {
      "cell_type": "code",
      "source": [
        "# تدريب نموذج ResNet\n",
        "history_resnet = train_student_with_teacher(\n",
        "    teacher_model=resnet_model,  # استبدال هذا مع نموذج المعلم\n",
        "    student_model=resnet_student_model,\n",
        "    X_train=X_train, y_train_categorical=y_train_categorical,\n",
        "    X_test=X_test, y_test_categorical=y_test_categorical,\n",
        "    epochs=250\n",
        "    )\n"
      ],
      "metadata": {
        "colab": {
          "base_uri": "https://localhost:8080/"
        },
        "id": "eXuZy1smHC8o",
        "outputId": "3b27fc81-29a1-4b97-d238-c9a8bd9d5bd6"
      },
      "execution_count": 27,
      "outputs": [
        {
          "output_type": "stream",
          "name": "stdout",
          "text": [
            "Epoch 1/250\n",
            "\u001b[1m93/93\u001b[0m \u001b[32m━━━━━━━━━━━━━━━━━━━━\u001b[0m\u001b[37m\u001b[0m \u001b[1m103s\u001b[0m 452ms/step - accuracy: 0.4072 - loss: 2.3796 - val_accuracy: 0.1865 - val_loss: 2961.3062\n",
            "Epoch 2/250\n",
            "\u001b[1m93/93\u001b[0m \u001b[32m━━━━━━━━━━━━━━━━━━━━\u001b[0m\u001b[37m\u001b[0m \u001b[1m7s\u001b[0m 78ms/step - accuracy: 0.7012 - loss: 0.8962 - val_accuracy: 0.1865 - val_loss: 35.0755\n",
            "Epoch 3/250\n",
            "\u001b[1m93/93\u001b[0m \u001b[32m━━━━━━━━━━━━━━━━━━━━\u001b[0m\u001b[37m\u001b[0m \u001b[1m7s\u001b[0m 78ms/step - accuracy: 0.8976 - loss: 0.3670 - val_accuracy: 0.1865 - val_loss: 34.4016\n",
            "Epoch 4/250\n",
            "\u001b[1m93/93\u001b[0m \u001b[32m━━━━━━━━━━━━━━━━━━━━\u001b[0m\u001b[37m\u001b[0m \u001b[1m7s\u001b[0m 79ms/step - accuracy: 0.8907 - loss: 0.3447 - val_accuracy: 0.1865 - val_loss: 18.7082\n",
            "Epoch 5/250\n",
            "\u001b[1m93/93\u001b[0m \u001b[32m━━━━━━━━━━━━━━━━━━━━\u001b[0m\u001b[37m\u001b[0m \u001b[1m7s\u001b[0m 78ms/step - accuracy: 0.9441 - loss: 0.1816 - val_accuracy: 0.1865 - val_loss: 1.8875\n",
            "Epoch 6/250\n",
            "\u001b[1m93/93\u001b[0m \u001b[32m━━━━━━━━━━━━━━━━━━━━\u001b[0m\u001b[37m\u001b[0m \u001b[1m11s\u001b[0m 82ms/step - accuracy: 0.9650 - loss: 0.1295 - val_accuracy: 0.1865 - val_loss: 36.6515\n",
            "Epoch 7/250\n",
            "\u001b[1m93/93\u001b[0m \u001b[32m━━━━━━━━━━━━━━━━━━━━\u001b[0m\u001b[37m\u001b[0m \u001b[1m10s\u001b[0m 78ms/step - accuracy: 0.9724 - loss: 0.0881 - val_accuracy: 0.1676 - val_loss: 4.3821\n",
            "Epoch 8/250\n",
            "\u001b[1m93/93\u001b[0m \u001b[32m━━━━━━━━━━━━━━━━━━━━\u001b[0m\u001b[37m\u001b[0m \u001b[1m7s\u001b[0m 76ms/step - accuracy: 0.9944 - loss: 0.0204 - val_accuracy: 0.1676 - val_loss: 16.6230\n",
            "Epoch 9/250\n",
            "\u001b[1m93/93\u001b[0m \u001b[32m━━━━━━━━━━━━━━━━━━━━\u001b[0m\u001b[37m\u001b[0m \u001b[1m10s\u001b[0m 79ms/step - accuracy: 0.9989 - loss: 0.0043 - val_accuracy: 0.1676 - val_loss: 11.1339\n",
            "Epoch 10/250\n",
            "\u001b[1m93/93\u001b[0m \u001b[32m━━━━━━━━━━━━━━━━━━━━\u001b[0m\u001b[37m\u001b[0m \u001b[1m7s\u001b[0m 76ms/step - accuracy: 0.9874 - loss: 0.0487 - val_accuracy: 0.1865 - val_loss: 30.2889\n",
            "Epoch 11/250\n",
            "\u001b[1m93/93\u001b[0m \u001b[32m━━━━━━━━━━━━━━━━━━━━\u001b[0m\u001b[37m\u001b[0m \u001b[1m7s\u001b[0m 79ms/step - accuracy: 0.9232 - loss: 0.4161 - val_accuracy: 0.4027 - val_loss: 3.4745\n",
            "Epoch 12/250\n",
            "\u001b[1m93/93\u001b[0m \u001b[32m━━━━━━━━━━━━━━━━━━━━\u001b[0m\u001b[37m\u001b[0m \u001b[1m10s\u001b[0m 80ms/step - accuracy: 0.9746 - loss: 0.0822 - val_accuracy: 0.4541 - val_loss: 1.7823\n",
            "Epoch 13/250\n",
            "\u001b[1m93/93\u001b[0m \u001b[32m━━━━━━━━━━━━━━━━━━━━\u001b[0m\u001b[37m\u001b[0m \u001b[1m7s\u001b[0m 80ms/step - accuracy: 0.9801 - loss: 0.0670 - val_accuracy: 0.5514 - val_loss: 2.0559\n",
            "Epoch 14/250\n",
            "\u001b[1m93/93\u001b[0m \u001b[32m━━━━━━━━━━━━━━━━━━━━\u001b[0m\u001b[37m\u001b[0m \u001b[1m7s\u001b[0m 78ms/step - accuracy: 0.9806 - loss: 0.0716 - val_accuracy: 0.6946 - val_loss: 1.4117\n",
            "Epoch 15/250\n",
            "\u001b[1m93/93\u001b[0m \u001b[32m━━━━━━━━━━━━━━━━━━━━\u001b[0m\u001b[37m\u001b[0m \u001b[1m7s\u001b[0m 76ms/step - accuracy: 0.9930 - loss: 0.0219 - val_accuracy: 0.8189 - val_loss: 0.8110\n",
            "Epoch 16/250\n",
            "\u001b[1m93/93\u001b[0m \u001b[32m━━━━━━━━━━━━━━━━━━━━\u001b[0m\u001b[37m\u001b[0m \u001b[1m7s\u001b[0m 78ms/step - accuracy: 0.9921 - loss: 0.0181 - val_accuracy: 0.6162 - val_loss: 1.2188\n",
            "Epoch 17/250\n",
            "\u001b[1m93/93\u001b[0m \u001b[32m━━━━━━━━━━━━━━━━━━━━\u001b[0m\u001b[37m\u001b[0m \u001b[1m10s\u001b[0m 77ms/step - accuracy: 0.9827 - loss: 0.0794 - val_accuracy: 0.7595 - val_loss: 1.1512\n",
            "Epoch 18/250\n",
            "\u001b[1m93/93\u001b[0m \u001b[32m━━━━━━━━━━━━━━━━━━━━\u001b[0m\u001b[37m\u001b[0m \u001b[1m7s\u001b[0m 78ms/step - accuracy: 0.9879 - loss: 0.0930 - val_accuracy: 0.9486 - val_loss: 0.2449\n",
            "Epoch 19/250\n",
            "\u001b[1m93/93\u001b[0m \u001b[32m━━━━━━━━━━━━━━━━━━━━\u001b[0m\u001b[37m\u001b[0m \u001b[1m10s\u001b[0m 78ms/step - accuracy: 0.9878 - loss: 0.0507 - val_accuracy: 0.9405 - val_loss: 0.1901\n",
            "Epoch 20/250\n",
            "\u001b[1m93/93\u001b[0m \u001b[32m━━━━━━━━━━━━━━━━━━━━\u001b[0m\u001b[37m\u001b[0m \u001b[1m10s\u001b[0m 77ms/step - accuracy: 0.9580 - loss: 0.1445 - val_accuracy: 0.3703 - val_loss: 5.6370\n",
            "Epoch 21/250\n",
            "\u001b[1m93/93\u001b[0m \u001b[32m━━━━━━━━━━━━━━━━━━━━\u001b[0m\u001b[37m\u001b[0m \u001b[1m7s\u001b[0m 78ms/step - accuracy: 0.9558 - loss: 0.1930 - val_accuracy: 0.7541 - val_loss: 2.3497\n",
            "Epoch 22/250\n",
            "\u001b[1m93/93\u001b[0m \u001b[32m━━━━━━━━━━━━━━━━━━━━\u001b[0m\u001b[37m\u001b[0m \u001b[1m7s\u001b[0m 75ms/step - accuracy: 0.9906 - loss: 0.0359 - val_accuracy: 0.6568 - val_loss: 2.4852\n",
            "Epoch 23/250\n",
            "\u001b[1m92/93\u001b[0m \u001b[32m━━━━━━━━━━━━━━━━━━━\u001b[0m\u001b[37m━\u001b[0m \u001b[1m0s\u001b[0m 75ms/step - accuracy: 0.9995 - loss: 0.0018\n",
            "Stopping training as val_accuracy reached 1.00, which is greater than or equal to 0.96.\n",
            "\u001b[1m93/93\u001b[0m \u001b[32m━━━━━━━━━━━━━━━━━━━━\u001b[0m\u001b[37m\u001b[0m \u001b[1m8s\u001b[0m 81ms/step - accuracy: 0.9995 - loss: 0.0019 - val_accuracy: 0.9973 - val_loss: 0.0148\n"
          ]
        }
      ]
    },
    {
      "cell_type": "code",
      "source": [
        "def evaluate_model(model, X_test, y_test_categorical):\n",
        "    loss, accuracy = model.evaluate(X_test, y_test_categorical)\n",
        "    print(f\"Test Loss: {loss}\")\n",
        "    print(f\"Test Accuracy: {accuracy}\")\n",
        "\n",
        "    y_pred = model.predict(X_test)\n",
        "    y_pred_classes = np.argmax(y_pred, axis=1)\n",
        "    y_true_classes = np.argmax(y_test_categorical, axis=1)\n",
        "\n",
        "    print(\"Classification Report:\")\n",
        "    print(classification_report(y_true_classes, y_pred_classes, target_names=label_encoder.classes_))\n",
        "\n",
        "    print(\"Confusion Matrix:\")\n",
        "    print(confusion_matrix(y_true_classes, y_pred_classes))"
      ],
      "metadata": {
        "id": "H8po8K4NrVaK"
      },
      "execution_count": 28,
      "outputs": []
    },
    {
      "cell_type": "code",
      "source": [
        "# Evaluate student MobileNet\n",
        "print(\"Evaluating student MobileNet:\")\n",
        "evaluate_model(mobilenet_student_model, X_test, y_test_categorical)"
      ],
      "metadata": {
        "colab": {
          "base_uri": "https://localhost:8080/"
        },
        "id": "6UknG0U_KEuq",
        "outputId": "fbf07df6-663c-4b93-88b3-d2e64381fd43"
      },
      "execution_count": 29,
      "outputs": [
        {
          "output_type": "stream",
          "name": "stdout",
          "text": [
            "Evaluating student MobileNet:\n",
            "\u001b[1m12/12\u001b[0m \u001b[32m━━━━━━━━━━━━━━━━━━━━\u001b[0m\u001b[37m\u001b[0m \u001b[1m10s\u001b[0m 252ms/step - accuracy: 0.1619 - loss: 2.2845\n",
            "Test Loss: 2.228522300720215\n",
            "Test Accuracy: 0.1756756752729416\n",
            "\u001b[1m12/12\u001b[0m \u001b[32m━━━━━━━━━━━━━━━━━━━━\u001b[0m\u001b[37m\u001b[0m \u001b[1m12s\u001b[0m 564ms/step\n",
            "Classification Report:\n",
            "                     precision    recall  f1-score   support\n",
            "\n",
            "              color       0.19      0.17      0.18        69\n",
            "                cut       0.11      0.20      0.14        61\n",
            "               good       0.21      0.61      0.31        62\n",
            "               hole       0.00      0.00      0.00        68\n",
            "metal_contamination       0.00      0.00      0.00        53\n",
            "             thread       0.21      0.05      0.08        57\n",
            "\n",
            "           accuracy                           0.18       370\n",
            "          macro avg       0.12      0.17      0.12       370\n",
            "       weighted avg       0.12      0.18      0.12       370\n",
            "\n",
            "Confusion Matrix:\n",
            "[[12 34 13  0  0 10]\n",
            " [12 12 37  0  0  0]\n",
            " [13 10 38  0  0  1]\n",
            " [ 4 42 22  0  0  0]\n",
            " [13  3 37  0  0  0]\n",
            " [10 11 33  0  0  3]]\n"
          ]
        },
        {
          "output_type": "stream",
          "name": "stderr",
          "text": [
            "/usr/local/lib/python3.10/dist-packages/sklearn/metrics/_classification.py:1531: UndefinedMetricWarning: Precision is ill-defined and being set to 0.0 in labels with no predicted samples. Use `zero_division` parameter to control this behavior.\n",
            "  _warn_prf(average, modifier, f\"{metric.capitalize()} is\", len(result))\n",
            "/usr/local/lib/python3.10/dist-packages/sklearn/metrics/_classification.py:1531: UndefinedMetricWarning: Precision is ill-defined and being set to 0.0 in labels with no predicted samples. Use `zero_division` parameter to control this behavior.\n",
            "  _warn_prf(average, modifier, f\"{metric.capitalize()} is\", len(result))\n",
            "/usr/local/lib/python3.10/dist-packages/sklearn/metrics/_classification.py:1531: UndefinedMetricWarning: Precision is ill-defined and being set to 0.0 in labels with no predicted samples. Use `zero_division` parameter to control this behavior.\n",
            "  _warn_prf(average, modifier, f\"{metric.capitalize()} is\", len(result))\n"
          ]
        }
      ]
    },
    {
      "cell_type": "code",
      "source": [
        "# Evaluate student EfficientNetB0\n",
        "print(\"Evaluating student EfficientNetB0:\")\n",
        "evaluate_model(efficientnet_student_model, X_test, y_test_categorical)"
      ],
      "metadata": {
        "colab": {
          "base_uri": "https://localhost:8080/"
        },
        "id": "UnN3KujJKCu3",
        "outputId": "a249a383-d047-4806-91d2-423143396c6d"
      },
      "execution_count": 30,
      "outputs": [
        {
          "output_type": "stream",
          "name": "stdout",
          "text": [
            "Evaluating student EfficientNetB0:\n",
            "\u001b[1m12/12\u001b[0m \u001b[32m━━━━━━━━━━━━━━━━━━━━\u001b[0m\u001b[37m\u001b[0m \u001b[1m17s\u001b[0m 469ms/step - accuracy: 0.1502 - loss: 1.8002\n",
            "Test Loss: 1.7973095178604126\n",
            "Test Accuracy: 0.16756756603717804\n",
            "\u001b[1m12/12\u001b[0m \u001b[32m━━━━━━━━━━━━━━━━━━━━\u001b[0m\u001b[37m\u001b[0m \u001b[1m15s\u001b[0m 752ms/step\n",
            "Classification Report:\n",
            "                     precision    recall  f1-score   support\n",
            "\n",
            "              color       0.00      0.00      0.00        69\n",
            "                cut       0.00      0.00      0.00        61\n",
            "               good       0.17      1.00      0.29        62\n",
            "               hole       0.00      0.00      0.00        68\n",
            "metal_contamination       0.00      0.00      0.00        53\n",
            "             thread       0.00      0.00      0.00        57\n",
            "\n",
            "           accuracy                           0.17       370\n",
            "          macro avg       0.03      0.17      0.05       370\n",
            "       weighted avg       0.03      0.17      0.05       370\n",
            "\n",
            "Confusion Matrix:\n",
            "[[ 0  0 69  0  0  0]\n",
            " [ 0  0 61  0  0  0]\n",
            " [ 0  0 62  0  0  0]\n",
            " [ 0  0 68  0  0  0]\n",
            " [ 0  0 53  0  0  0]\n",
            " [ 0  0 57  0  0  0]]\n"
          ]
        },
        {
          "output_type": "stream",
          "name": "stderr",
          "text": [
            "/usr/local/lib/python3.10/dist-packages/sklearn/metrics/_classification.py:1531: UndefinedMetricWarning: Precision is ill-defined and being set to 0.0 in labels with no predicted samples. Use `zero_division` parameter to control this behavior.\n",
            "  _warn_prf(average, modifier, f\"{metric.capitalize()} is\", len(result))\n",
            "/usr/local/lib/python3.10/dist-packages/sklearn/metrics/_classification.py:1531: UndefinedMetricWarning: Precision is ill-defined and being set to 0.0 in labels with no predicted samples. Use `zero_division` parameter to control this behavior.\n",
            "  _warn_prf(average, modifier, f\"{metric.capitalize()} is\", len(result))\n",
            "/usr/local/lib/python3.10/dist-packages/sklearn/metrics/_classification.py:1531: UndefinedMetricWarning: Precision is ill-defined and being set to 0.0 in labels with no predicted samples. Use `zero_division` parameter to control this behavior.\n",
            "  _warn_prf(average, modifier, f\"{metric.capitalize()} is\", len(result))\n"
          ]
        }
      ]
    },
    {
      "cell_type": "code",
      "source": [
        "# Evaluate student ResNet50\n",
        "print(\"Evaluating student ResNet50:\")\n",
        "evaluate_model(resnet_student_model, X_test, y_test_categorical)"
      ],
      "metadata": {
        "colab": {
          "base_uri": "https://localhost:8080/"
        },
        "id": "QmU9WgU4KAue",
        "outputId": "52e9b9df-ed17-43e7-aa27-1332a123921c"
      },
      "execution_count": 32,
      "outputs": [
        {
          "output_type": "stream",
          "name": "stdout",
          "text": [
            "Evaluating student ResNet50:\n",
            "\u001b[1m12/12\u001b[0m \u001b[32m━━━━━━━━━━━━━━━━━━━━\u001b[0m\u001b[37m\u001b[0m \u001b[1m6s\u001b[0m 273ms/step - accuracy: 0.9959 - loss: 0.0158\n",
            "Test Loss: 0.014815440401434898\n",
            "Test Accuracy: 0.9972972869873047\n",
            "\u001b[1m12/12\u001b[0m \u001b[32m━━━━━━━━━━━━━━━━━━━━\u001b[0m\u001b[37m\u001b[0m \u001b[1m7s\u001b[0m 372ms/step\n",
            "Classification Report:\n",
            "                     precision    recall  f1-score   support\n",
            "\n",
            "              color       1.00      1.00      1.00        69\n",
            "                cut       0.98      1.00      0.99        61\n",
            "               good       1.00      0.98      0.99        62\n",
            "               hole       1.00      1.00      1.00        68\n",
            "metal_contamination       1.00      1.00      1.00        53\n",
            "             thread       1.00      1.00      1.00        57\n",
            "\n",
            "           accuracy                           1.00       370\n",
            "          macro avg       1.00      1.00      1.00       370\n",
            "       weighted avg       1.00      1.00      1.00       370\n",
            "\n",
            "Confusion Matrix:\n",
            "[[69  0  0  0  0  0]\n",
            " [ 0 61  0  0  0  0]\n",
            " [ 0  1 61  0  0  0]\n",
            " [ 0  0  0 68  0  0]\n",
            " [ 0  0  0  0 53  0]\n",
            " [ 0  0  0  0  0 57]]\n"
          ]
        }
      ]
    },
    {
      "cell_type": "code",
      "source": [
        "del balanced_images\n",
        "del balanced_labels\n",
        "del augmented_images\n",
        "del augmented_labels\n",
        "del optimized_images"
      ],
      "metadata": {
        "id": "NYoddM32g2rS"
      },
      "execution_count": 31,
      "outputs": []
    },
    {
      "cell_type": "code",
      "source": [
        "def plot_training_history(history, title):\n",
        "    plt.figure(figsize=(16, 8))\n",
        "\n",
        "    plt.subplot(1, 2, 1)\n",
        "    plt.plot(history.history['accuracy'], label='Train Accuracy')\n",
        "    plt.plot(history.history['val_accuracy'], label='Validation Accuracy')\n",
        "    plt.title(f'{title} Accuracy')\n",
        "    plt.xlabel('Epoch')\n",
        "    plt.ylabel('Accuracy')\n",
        "    plt.legend()\n",
        "\n",
        "    plt.subplot(1, 2, 2)\n",
        "    plt.plot(history.history['loss'], label='Train Loss')\n",
        "    plt.plot(history.history['val_loss'], label='Validation Loss')\n",
        "    plt.title(f'{title} Loss')\n",
        "    plt.xlabel('Epoch')\n",
        "    plt.ylabel('Loss')\n",
        "    plt.legend()\n",
        "\n",
        "    plt.show()"
      ],
      "metadata": {
        "id": "uYA3cfg-J9Gi"
      },
      "execution_count": 33,
      "outputs": []
    },
    {
      "cell_type": "code",
      "execution_count": 35,
      "metadata": {
        "colab": {
          "base_uri": "https://localhost:8080/",
          "height": 718
        },
        "id": "Q0cAFuRBscNW",
        "outputId": "6d6a7ec4-e4c1-49aa-ad38-85cae3b44dd3",
        "collapsed": true
      },
      "outputs": [
        {
          "output_type": "display_data",
          "data": {
            "text/plain": [
              "<Figure size 1600x800 with 2 Axes>"
            ],
            "image/png": "[encoded data removed]"
          },
          "metadata": {}
        }
      ],
      "source": [
        "# Plot MobileNet History\n",
        "plot_training_history(history_mobilenet, 'MobileNet')"
      ]
    },
    {
      "cell_type": "code",
      "execution_count": 36,
      "metadata": {
        "colab": {
          "base_uri": "https://localhost:8080/",
          "height": 718
        },
        "id": "i3wN0c_ssdUF",
        "outputId": "6bfaf578-d9ba-4bd8-ad60-413b97426701",
        "collapsed": true
      },
      "outputs": [
        {
          "output_type": "display_data",
          "data": {
            "text/plain": [
              "<Figure size 1600x800 with 2 Axes>"
            ],
            "image/png": "[encoded data removed]"
          },
          "metadata": {}
        }
      ],
      "source": [
        "# Plot EfficientNetB0 History\n",
        "plot_training_history(history_efficientnet, 'EfficientNetB0')"
      ]
    },
    {
      "cell_type": "code",
      "execution_count": 37,
      "metadata": {
        "id": "A9JeIFKAseHe",
        "collapsed": true,
        "colab": {
          "base_uri": "https://localhost:8080/",
          "height": 718
        },
        "outputId": "03284f48-84c9-4634-c87d-58b959a65e63"
      },
      "outputs": [
        {
          "output_type": "display_data",
          "data": {
            "text/plain": [
              "<Figure size 1600x800 with 2 Axes>"
            ],
            "image/png": "[encoded data removed]"
          },
          "metadata": {}
        }
      ],
      "source": [
        "# Plot ResNet50 History\n",
        "plot_training_history(history_resnet, 'ResNet50')"
      ]
    },
    {
      "cell_type": "code",
      "source": [
        "from sklearn.metrics import f1_score, precision_score, recall_score, roc_auc_score\n",
        "import time\n",
        "import psutil\n",
        "import os\n",
        "import tensorflow as tf\n",
        "\n",
        "# دالة لتقييم النموذج\n",
        "def evaluate_model(model, X_test, y_test):\n",
        "    # حساب الوقت\n",
        "    start_time = time.time()\n",
        "\n",
        "    # إجراء التنبؤات\n",
        "    y_pred = model.predict(X_test)\n",
        "\n",
        "    # حساب الزمن\n",
        "    inference_time = time.time() - start_time\n",
        "\n",
        "    # حساب المقاييس\n",
        "    if y_test.ndim == 2 and y_test.shape[1] > 1:  # Check if y_test is one-hot encoded\n",
        "        y_test = np.argmax(y_test, axis=1)  # Convert to multiclass\n",
        "    f1 = f1_score(y_test, y_pred.argmax(axis=1), average='weighted')\n",
        "    precision = precision_score(y_test, y_pred.argmax(axis=1), average='weighted')\n",
        "    recall = recall_score(y_test, y_pred.argmax(axis=1), average='weighted')\n",
        "    if y_test.ndim == 1:  # Check if y_test is multiclass\n",
        "        y_test_onehot = tf.keras.utils.to_categorical(y_test, num_classes=y_pred.shape[1])  # Convert to one-hot\n",
        "    else:\n",
        "        y_test_onehot = y_test  # If already one-hot, no conversion needed\n",
        "    auc = roc_auc_score(y_test_onehot, y_pred, multi_class='ovr')\n",
        "    # قياس استهلاك الذاكرة\n",
        "    memory_usage = psutil.Process(os.getpid()).memory_info().rss / 1024 / 1024  # بالميجابايت\n",
        "\n",
        "    # حساب حجم النموذج\n",
        "    model_size = model.count_params() * 4 / 1024 / 1024  # بالميجابايت\n",
        "\n",
        "    # ملاحظة: يمكن التعديل للحصول على استهلاك الطاقة حسب الأجهزة\n",
        "    power_consumption = None  # يعتمد على الجهاز (ليس من السهل قياسه مباشرة)\n",
        "\n",
        "    return {\n",
        "        'inference_time': inference_time,\n",
        "        'f1_score': f1,\n",
        "        'precision': precision,\n",
        "        'recall': recall,\n",
        "        'roc_auc': auc,\n",
        "        'memory_usage': memory_usage,\n",
        "        'model_size': model_size,\n",
        "        'power_consumption': power_consumption\n",
        "    }\n"
      ],
      "metadata": {
        "id": "wOLXzOk8JqTs"
      },
      "execution_count": 45,
      "outputs": []
    },
    {
      "cell_type": "code",
      "source": [
        "# تقييم النماذج الأصلية\n",
        "original_models = {\n",
        "    'efficientnet_model': efficientnet_model,\n",
        "    'resnet_model': resnet_model,\n",
        "    'mobilenet_model': mobilenet_model\n",
        "}\n",
        "\n"
      ],
      "metadata": {
        "id": "LOpof7i0Jse4"
      },
      "execution_count": 39,
      "outputs": []
    },
    {
      "cell_type": "code",
      "source": [
        "# تقييم نماذج الطلاب بعد Quantization و Knowledge Distillation\n",
        "distilled_models = {\n",
        "    'efficientnet_student_model': efficientnet_student_model,\n",
        "    'resnet_student_model': resnet_student_model,\n",
        "    'mobilenet_student_model': mobilenet_student_model\n",
        "}\n",
        "\n"
      ],
      "metadata": {
        "id": "QHvJ_beZhdEe"
      },
      "execution_count": 40,
      "outputs": []
    },
    {
      "cell_type": "code",
      "source": [
        "# تقييم كل نموذج\n",
        "results = {}\n",
        "\n"
      ],
      "metadata": {
        "id": "eqAO6xrbheYX"
      },
      "execution_count": 41,
      "outputs": []
    },
    {
      "cell_type": "code",
      "source": [
        "# تقييم النماذج الأصلية\n",
        "for model_name, model in original_models.items():\n",
        "    results[model_name] = evaluate_model(model, X_test, y_test_categorical)\n"
      ],
      "metadata": {
        "colab": {
          "base_uri": "https://localhost:8080/"
        },
        "id": "SkxiXh7Mhfm1",
        "outputId": "bc9ae8ea-3688-4346-8e2f-4b4fd1005a8d"
      },
      "execution_count": 46,
      "outputs": [
        {
          "output_type": "stream",
          "name": "stdout",
          "text": [
            "\u001b[1m12/12\u001b[0m \u001b[32m━━━━━━━━━━━━━━━━━━━━\u001b[0m\u001b[37m\u001b[0m \u001b[1m0s\u001b[0m 16ms/step\n",
            "\u001b[1m12/12\u001b[0m \u001b[32m━━━━━━━━━━━━━━━━━━━━\u001b[0m\u001b[37m\u001b[0m \u001b[1m9s\u001b[0m 539ms/step\n"
          ]
        },
        {
          "output_type": "stream",
          "name": "stderr",
          "text": [
            "/usr/local/lib/python3.10/dist-packages/sklearn/metrics/_classification.py:1531: UndefinedMetricWarning: Precision is ill-defined and being set to 0.0 in labels with no predicted samples. Use `zero_division` parameter to control this behavior.\n",
            "  _warn_prf(average, modifier, f\"{metric.capitalize()} is\", len(result))\n"
          ]
        },
        {
          "output_type": "stream",
          "name": "stdout",
          "text": [
            "\u001b[1m12/12\u001b[0m \u001b[32m━━━━━━━━━━━━━━━━━━━━\u001b[0m\u001b[37m\u001b[0m \u001b[1m4s\u001b[0m 190ms/step\n"
          ]
        }
      ]
    },
    {
      "cell_type": "code",
      "source": [
        "\n",
        "# تقييم نماذج الطلاب بعد Quantization و Knowledge Distillation\n",
        "for model_name, model in distilled_models.items():\n",
        "    results[model_name] = evaluate_model(model, X_test, y_test_categorical)\n"
      ],
      "metadata": {
        "colab": {
          "base_uri": "https://localhost:8080/"
        },
        "id": "B9iThFMLhiww",
        "outputId": "53a493c1-659c-4bd6-d105-0269d90cac67"
      },
      "execution_count": 47,
      "outputs": [
        {
          "output_type": "stream",
          "name": "stdout",
          "text": [
            "\u001b[1m12/12\u001b[0m \u001b[32m━━━━━━━━━━━━━━━━━━━━\u001b[0m\u001b[37m\u001b[0m \u001b[1m0s\u001b[0m 16ms/step\n"
          ]
        },
        {
          "output_type": "stream",
          "name": "stderr",
          "text": [
            "/usr/local/lib/python3.10/dist-packages/sklearn/metrics/_classification.py:1531: UndefinedMetricWarning: Precision is ill-defined and being set to 0.0 in labels with no predicted samples. Use `zero_division` parameter to control this behavior.\n",
            "  _warn_prf(average, modifier, f\"{metric.capitalize()} is\", len(result))\n"
          ]
        },
        {
          "output_type": "stream",
          "name": "stdout",
          "text": [
            "\u001b[1m12/12\u001b[0m \u001b[32m━━━━━━━━━━━━━━━━━━━━\u001b[0m\u001b[37m\u001b[0m \u001b[1m0s\u001b[0m 30ms/step\n",
            "\u001b[1m12/12\u001b[0m \u001b[32m━━━━━━━━━━━━━━━━━━━━\u001b[0m\u001b[37m\u001b[0m \u001b[1m0s\u001b[0m 9ms/step\n"
          ]
        },
        {
          "output_type": "stream",
          "name": "stderr",
          "text": [
            "/usr/local/lib/python3.10/dist-packages/sklearn/metrics/_classification.py:1531: UndefinedMetricWarning: Precision is ill-defined and being set to 0.0 in labels with no predicted samples. Use `zero_division` parameter to control this behavior.\n",
            "  _warn_prf(average, modifier, f\"{metric.capitalize()} is\", len(result))\n"
          ]
        }
      ]
    },
    {
      "cell_type": "code",
      "source": [
        "\n",
        "# عرض النتائج\n",
        "import pandas as pd\n",
        "df_results = pd.DataFrame(results).T\n",
        "print(df_results)"
      ],
      "metadata": {
        "colab": {
          "base_uri": "https://localhost:8080/"
        },
        "id": "21CtoqMkhjtW",
        "outputId": "1e72d3e4-c0ce-45cd-f13a-a72a616999fd"
      },
      "execution_count": 48,
      "outputs": [
        {
          "output_type": "stream",
          "name": "stdout",
          "text": [
            "                            inference_time  f1_score  precision    recall  \\\n",
            "efficientnet_model                0.547061  0.607400   0.729237  0.610811   \n",
            "resnet_model                     10.462378  0.473186   0.638599  0.489189   \n",
            "mobilenet_model                   5.344752  0.496085   0.562925  0.502703   \n",
            "efficientnet_student_model        0.629606  0.048098   0.028079  0.167568   \n",
            "resnet_student_model              0.615562  0.997297   0.997341  0.997297   \n",
            "mobilenet_student_model           0.400324  0.122166   0.121017  0.175676   \n",
            "\n",
            "                             roc_auc  memory_usage  model_size  \\\n",
            "efficientnet_model          0.882889   9267.222656   20.475254   \n",
            "resnet_model                0.834825   9358.500000   98.007347   \n",
            "mobilenet_model             0.806933   9435.722656   16.344505   \n",
            "efficientnet_student_model  0.422435   9493.609375   20.475254   \n",
            "resnet_student_model        0.999965   9523.882812   98.007347   \n",
            "mobilenet_student_model     0.480138   9573.460938    9.241966   \n",
            "\n",
            "                            power_consumption  \n",
            "efficientnet_model                        NaN  \n",
            "resnet_model                              NaN  \n",
            "mobilenet_model                           NaN  \n",
            "efficientnet_student_model                NaN  \n",
            "resnet_student_model                      NaN  \n",
            "mobilenet_student_model                   NaN  \n"
          ]
        }
      ]
    }
  ]
}